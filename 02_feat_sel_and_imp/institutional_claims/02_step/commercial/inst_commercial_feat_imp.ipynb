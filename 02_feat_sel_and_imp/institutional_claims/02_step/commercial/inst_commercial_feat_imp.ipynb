{
 "cells": [
  {
   "cell_type": "markdown",
   "id": "4a2d974b",
   "metadata": {},
   "source": [
    "### Bootstrap Feature Imporatance Computation for Institutional Claims Commercial Model.\n",
    "- This notebook captures the steps involved in computing feature importance scores across 500 cross-validation folds.\n",
    "- Further this notebook also holds the information on the number of times a feature was ranked higher than noise variable - for both numerical and categorical features data."
   ]
  },
  {
   "cell_type": "code",
   "execution_count": null,
   "id": "03db6506",
   "metadata": {},
   "outputs": [],
   "source": [
    "# Importing the required libraries\n",
    "import os\n",
    "import sys\n",
    "import warnings\n",
    "import numpy as np\n",
    "import pandas as pd\n",
    "\n",
    "warnings.filterwarnings(\"ignore\")"
   ]
  },
  {
   "cell_type": "code",
   "execution_count": null,
   "id": "3cc58384",
   "metadata": {},
   "outputs": [],
   "source": [
    "# Adding dependency python files to sys path\n",
    "sys.path[1:1] = [\"/home/ec2-user/SageMaker/GitHub Repos/cipy/cipy/\"]\n",
    "sys.path[2:2] = [\"/home/ec2-user/SageMaker/Users/SP056963/work_queue_prioritization_v2/\"]\n",
    "sys.path[3:3] = [\"/home/ec2-user/SageMaker/Users/SP056963/work_queue_prioritization_v2/02_feat_sel_and_imp/\"]\n",
    "sys.path[4:4] = [\"/home/ec2-user/SageMaker/Users/SP056963/work_queue_prioritization_v2/02_feat_sel_and_imp/institutional_claims/02_step\"]\n",
    "\n",
    "sys.path"
   ]
  },
  {
   "cell_type": "code",
   "execution_count": null,
   "id": "81319d56",
   "metadata": {},
   "outputs": [],
   "source": [
    "# Importing methods from wqp_methods path file, especially get_cvfolds will be leveraged in this notebook.\n",
    "from wqp_methods import *"
   ]
  },
  {
   "cell_type": "code",
   "execution_count": null,
   "id": "bdee0ab5",
   "metadata": {},
   "outputs": [],
   "source": [
    "# Importing BootStrapFeatImp class for computing Feature Importance Scores\n",
    "from bootstrap_feat_imp import BootstrapFeatImp"
   ]
  },
  {
   "cell_type": "code",
   "execution_count": null,
   "id": "e9134f81",
   "metadata": {},
   "outputs": [],
   "source": [
    "# Reading the Institutional claims dataset\n",
    "ref_col= \"claim_filing_ind_code3\"\n",
    "\n",
    "# csv_path for Institutional Claims Data Path\n",
    "csv_path = \"/home/ec2-user/SageMaker/Users/SP056963/work_queue_prioritization_v2/01_data_preprocessing/preprocessed_datasets/\"\n",
    "\n",
    "# Loading the institutional claims dataset into inst_claims\n",
    "inst_claims = pd.read_csv(csv_path+\"ic_preprocessed_dataset_2021-06-06.csv\")\n",
    "\n",
    "# Creating the event_flag - for survival analysis.\n",
    "inst_claims[\"event_flag\"] = True"
   ]
  },
  {
   "cell_type": "code",
   "execution_count": null,
   "id": "81aaaa23",
   "metadata": {},
   "outputs": [],
   "source": [
    "# Load the feature information after preprocessing - 01 Notebook output\n",
    "filtered_columns_data = pickl(\"/home/ec2-user/SageMaker/Users/SP056963/work_queue_prioritization_v2/02_feat_sel_and_imp/institutional_claims/02_step/inst_claims_cat_num_filtered_feature_details.pickle\")\n",
    "\n",
    "# Derive Final Model Features for..\n",
    "claim_filing_indicator_code = \"Commercial Insurance Co.\"\n",
    "    \n",
    "# Retrieving claim_filing_indicator_code specific data\n",
    "cfic_df = inst_claims[inst_claims[ref_col]==claim_filing_indicator_code].reset_index()\n",
    "\n",
    "# Clipping the response_time values as per claim_filing_indicator_code specific percentiles\n",
    "cfic_df = clip_right_tail2(cfic_df, 0.99)\n",
    "\n",
    "# Creating the structured array with event_flag and response_time values.\n",
    "y = Surv.from_arrays(cfic_df[\"event_flag\"].values, cfic_df[\"response_time\"].values)\n",
    "\n",
    "# Retrieving categorical features..\n",
    "cat_cols = filtered_columns_data[claim_filing_indicator_code][\"final_cat_cols\"]\n",
    "cat_df = cfic_df[cat_cols]\n",
    "\n",
    "# Encoding categorical features..\n",
    "le = LabelEncoder()\n",
    "encoded_cat_df = cat_df.apply(lambda col: le.fit_transform(col.astype(str)), axis=0, result_type=\"expand\")\n",
    "\n",
    "# Adding noise variable for categorical data\n",
    "np.random.seed(0)\n",
    "encoded_cat_df[\"noise\"] = np.random.poisson(5, size=len(encoded_cat_df))\n",
    "\n",
    "# Retrieving numerical features..\n",
    "num_cols = filtered_columns_data[claim_filing_indicator_code][\"final_num_cols\"]\n",
    "num_df = cfic_df[num_cols]\n",
    "\n",
    "# Adding noise variable for numerical data\n",
    "np.random.seed(0)\n",
    "num_df[\"noise\"] = np.random.normal(0, 1, len(num_df))"
   ]
  },
  {
   "cell_type": "code",
   "execution_count": null,
   "id": "2cba4208",
   "metadata": {},
   "outputs": [],
   "source": [
    "cv_folds = []\n",
    "\n",
    "if os.path.isfile(\"inst_commercial_cv_folds.pickle\"):\n",
    "    cv_folds=pickl(\"inst_commercial_cv_folds.pickle\")\n",
    "\n",
    "else:\n",
    "    for i in range(50):\n",
    "        cv_folds += get_folds(cfic_df)\n",
    "        \n",
    "    pickl(\"inst_commercial_cv_folds.pickle\", cv_folds)"
   ]
  },
  {
   "cell_type": "code",
   "execution_count": null,
   "id": "b2d25dd1",
   "metadata": {},
   "outputs": [],
   "source": [
    "len(cv_folds)"
   ]
  },
  {
   "cell_type": "code",
   "execution_count": null,
   "id": "cd84c53a",
   "metadata": {},
   "outputs": [],
   "source": [
    "# Initializing BootStrapFeatImp object\n",
    "btstrp_featimp = BootstrapFeatImp(num_df, encoded_cat_df, y, cv_folds)"
   ]
  },
  {
   "cell_type": "code",
   "execution_count": null,
   "id": "96c227f2",
   "metadata": {},
   "outputs": [],
   "source": [
    "# Numerical Features Importance\n",
    "numfeat_df, numfeat_noise_df = btstrp_featimp.run_numfeat_wrapper()"
   ]
  },
  {
   "cell_type": "code",
   "execution_count": null,
   "id": "10746301",
   "metadata": {},
   "outputs": [],
   "source": [
    "# Saving the details..\n",
    "numfeat_df.to_csv(\"inst_commercial_numfeat_df.csv\", index=False)\n",
    "numfeat_noise_df.to_csv(\"inst_commercial_numfeat_noise_df.csv\", index=False)"
   ]
  },
  {
   "cell_type": "code",
   "execution_count": null,
   "id": "e7466088",
   "metadata": {},
   "outputs": [],
   "source": [
    "numfeat_noise_df"
   ]
  },
  {
   "cell_type": "code",
   "execution_count": null,
   "id": "5bbb7013",
   "metadata": {},
   "outputs": [],
   "source": [
    "# Categorical Features Importance\n",
    "catfeat_df, catfeat_noise_df = btstrp_featimp.run_catfeat_wrapper()"
   ]
  },
  {
   "cell_type": "code",
   "execution_count": null,
   "id": "6474dcce",
   "metadata": {},
   "outputs": [],
   "source": [
    "catfeat_df.to_csv(\"inst_commercial_catfeat_df.csv\", index=False)\n",
    "catfeat_noise_df.to_csv(\"inst_commercial_catfeat_noise_df.csv\", index=False)"
   ]
  },
  {
   "cell_type": "code",
   "execution_count": null,
   "id": "a5bc9fc6",
   "metadata": {},
   "outputs": [],
   "source": [
    "catfeat_noise_df"
   ]
  },
  {
   "cell_type": "code",
   "execution_count": null,
   "id": "dd002d8d",
   "metadata": {},
   "outputs": [],
   "source": []
  }
 ],
 "metadata": {
  "kernelspec": {
   "display_name": "wqp_kernel",
   "language": "python",
   "name": "wqp_env"
  },
  "language_info": {
   "codemirror_mode": {
    "name": "ipython",
    "version": 3
   },
   "file_extension": ".py",
   "mimetype": "text/x-python",
   "name": "python",
   "nbconvert_exporter": "python",
   "pygments_lexer": "ipython3",
   "version": "3.6.13"
  }
 },
 "nbformat": 4,
 "nbformat_minor": 5
}
