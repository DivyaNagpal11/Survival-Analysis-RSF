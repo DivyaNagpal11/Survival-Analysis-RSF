{
 "cells": [
  {
   "cell_type": "markdown",
   "id": "1c51573b",
   "metadata": {},
   "source": [
    "### Bootstrap Feature Imporatance Computation for Institutional Claims Medicaid Model.\n",
    "- This notebook captures the steps involved in computing feature importance scores across 500 cross-validation folds.\n",
    "- Further this notebook also holds the information on the number of times a feature was ranked higher than noise variable - for both numerical and categorical features data."
   ]
  },
  {
   "cell_type": "code",
   "execution_count": null,
   "id": "eab2c081",
   "metadata": {},
   "outputs": [],
   "source": [
    "# Importing the required libraries\n",
    "import os\n",
    "import sys\n",
    "import warnings\n",
    "import numpy as np\n",
    "import pandas as pd\n",
    "\n",
    "warnings.filterwarnings(\"ignore\")"
   ]
  },
  {
   "cell_type": "code",
   "execution_count": null,
   "id": "abf1b16e",
   "metadata": {},
   "outputs": [],
   "source": [
    "# Adding dependency python files to sys path\n",
    "sys.path[1:1] = [\"/home/ec2-user/SageMaker/GitHub Repos/cipy/cipy/\"]\n",
    "sys.path[2:2] = [\"/home/ec2-user/SageMaker/Users/SP056963/work_queue_prioritization_v2/\"]\n",
    "sys.path[3:3] = [\"/home/ec2-user/SageMaker/Users/SP056963/work_queue_prioritization_v2/02_feat_sel_and_imp/\"]\n",
    "sys.path[4:4] = [\"/home/ec2-user/SageMaker/Users/SP056963/work_queue_prioritization_v2/02_feat_sel_and_imp/institutional_claims/02_step\"]\n",
    "\n",
    "sys.path"
   ]
  },
  {
   "cell_type": "code",
   "execution_count": null,
   "id": "09bd8093",
   "metadata": {},
   "outputs": [],
   "source": [
    "# Importing methods from wqp_methods path file, especially get_cvfolds will be leveraged in this notebook.\n",
    "from wqp_methods import *"
   ]
  },
  {
   "cell_type": "code",
   "execution_count": null,
   "id": "1d1365e6",
   "metadata": {},
   "outputs": [],
   "source": [
    "# Importing BootStrapFeatImp class for computing Feature Importance Scores\n",
    "from bootstrap_feat_imp import BootstrapFeatImp"
   ]
  },
  {
   "cell_type": "code",
   "execution_count": null,
   "id": "30518a4d",
   "metadata": {},
   "outputs": [],
   "source": [
    "# Reading the Institutional claims dataset\n",
    "ref_col= \"claim_filing_ind_code3\"\n",
    "\n",
    "# csv_path for Institutional Claims Data Path\n",
    "csv_path = \"/home/ec2-user/SageMaker/Users/SP056963/work_queue_prioritization_v2/01_data_preprocessing/preprocessed_datasets/\"\n",
    "\n",
    "# Loading the institutional claims dataset into inst_claims\n",
    "inst_claims = pd.read_csv(csv_path+\"ic_preprocessed_dataset_2021-06-06.csv\")\n",
    "\n",
    "# Creating the event_flag - for survival analysis.\n",
    "inst_claims[\"event_flag\"] = True"
   ]
  },
  {
   "cell_type": "code",
   "execution_count": null,
   "id": "d6ff7220",
   "metadata": {},
   "outputs": [],
   "source": [
    "final_cat_cols = ['Description_OccurrenceInformation_1',\n",
    " 'Description_OccurrenceInformation_2',\n",
    " 'HCPCSCode_Medicine_Services_and_Procedures',\n",
    " 'HCPCSCode_Pathology_and_Laboratory_Procedures',\n",
    " 'HCPCSCode_Surgery',\n",
    " 'RevCode_Emergency_Room',\n",
    " 'RevCode_Laboratory',\n",
    " 'RevCode_Medical/Surgical_Supplies_and_Devices',\n",
    " 'RevCode_Operating_Room_Services',\n",
    " 'RevCode_Other_Imaging_Services',\n",
    " 'RevCode_Pharmacy',\n",
    " 'RevCode_Pharmacy_-_Extension_of_025X',\n",
    " 'RevCode_Physical_Therapy',\n",
    " 'RevCode_Radiology_Diagnostic',\n",
    " 'admission_source_code',\n",
    " 'admission_type_code',\n",
    " 'ccsr_category_1_code_ExternalCauseOfInjury_HI_1',\n",
    " 'ccsr_category_1_code_OtherDiagnosisInformation_HI_1',\n",
    " 'ccsr_category_1_code_OtherDiagnosisInformation_HI_2',\n",
    " 'ccsr_category_1_code_OtherDiagnosisInformation_HI_3',\n",
    " 'ccsr_category_1_code_Patient’SReasonForVisit_1',\n",
    " 'ccsr_category_1_code_PrincipalDiagnosis_1',\n",
    " 'claim_creation_hour',\n",
    " 'claim_creation_weekday',\n",
    " 'claim_freq_type_code',\n",
    " 'claim_has_admission_dthr',\n",
    " 'claim_has_operating_physician_id',\n",
    " 'claim_has_payer_claim_control_number',\n",
    " 'claim_has_referring_provider_id',\n",
    " 'other_hcpcscodes',\n",
    " 'other_ndccodes',\n",
    " 'other_revcodes',\n",
    " 'payer_name',\n",
    " 'payer_resp_seq_num',\n",
    " 'subscriber_city',\n",
    " 'subscriber_gender',\n",
    " 'subscriber_pat_gender']"
   ]
  },
  {
   "cell_type": "code",
   "execution_count": null,
   "id": "9c8e5c8a",
   "metadata": {},
   "outputs": [],
   "source": [
    "# Load the feature information after preprocessing - 01 Notebook output\n",
    "filtered_columns_data = pickl(\"/home/ec2-user/SageMaker/Users/SP056963/work_queue_prioritization_v2/02_feat_sel_and_imp/institutional_claims/02_step/inst_claims_cat_num_filtered_feature_details.pickle\")\n",
    "\n",
    "# Derive Final Model Features for..\n",
    "claim_filing_indicator_code = \"Medicaid\"\n",
    "    \n",
    "# Retrieving claim_filing_indicator_code specific data\n",
    "cfic_df = inst_claims[inst_claims[ref_col]==claim_filing_indicator_code].reset_index()\n",
    "\n",
    "# Clipping the response_time values as per claim_filing_indicator_code specific percentiles\n",
    "cfic_df = clip_right_tail2(cfic_df, 0.98)\n",
    "\n",
    "# Creating the structured array with event_flag and response_time values.\n",
    "y = Surv.from_arrays(cfic_df[\"event_flag\"].values, cfic_df[\"response_time\"].values)\n",
    "\n",
    "# Retrieving categorical features..\n",
    "cat_cols = final_cat_cols#filtered_columns_data[claim_filing_indicator_code][\"final_cat_cols\"]\n",
    "cat_df = cfic_df[cat_cols]\n",
    "\n",
    "# Combining 'RevCode_Pharmacy' & 'RevCode_Pharmacy_-_Extension_of_025X'\n",
    "mask1 = cat_df[\"RevCode_Pharmacy_-_Extension_of_025X\"] == \"Yes\"\n",
    "cat_df.loc[mask1, \"RevCode_Pharmacy\"] = \"Yes\"\n",
    "del cat_df[\"RevCode_Pharmacy_-_Extension_of_025X\"]\n",
    "\n",
    "# Encoding categorical features..\n",
    "le = LabelEncoder()\n",
    "encoded_cat_df = cat_df.apply(lambda col: le.fit_transform(col.astype(str)), axis=0, result_type=\"expand\")\n",
    "\n",
    "# Adding noise variable for categorical data\n",
    "np.random.seed(0)\n",
    "encoded_cat_df[\"noise\"] = np.random.poisson(5, size=len(encoded_cat_df))\n",
    "\n",
    "# Retrieving numerical features..\n",
    "num_cols = filtered_columns_data[claim_filing_indicator_code][\"final_num_cols\"]\n",
    "num_df = cfic_df[num_cols]\n",
    "\n",
    "# Adding noise variable for numerical data\n",
    "np.random.seed(0)\n",
    "num_df[\"noise\"] = np.random.normal(0, 1, len(num_df))"
   ]
  },
  {
   "cell_type": "code",
   "execution_count": null,
   "id": "82393fb3",
   "metadata": {},
   "outputs": [],
   "source": [
    "cv_folds = []\n",
    "\n",
    "if os.path.isfile(\"inst_medicaid_cv_folds.pickle\"):\n",
    "    cv_folds=pickl(\"inst_medicaid_cv_folds.pickle\")\n",
    "\n",
    "else:\n",
    "    for i in range(50):\n",
    "        cv_folds += get_folds(cfic_df)\n",
    "        \n",
    "    pickl(\"inst_medicaid_cv_folds.pickle\", cv_folds)"
   ]
  },
  {
   "cell_type": "code",
   "execution_count": null,
   "id": "ec529326",
   "metadata": {},
   "outputs": [],
   "source": [
    "len(cv_folds)"
   ]
  },
  {
   "cell_type": "code",
   "execution_count": null,
   "id": "73a4c015",
   "metadata": {},
   "outputs": [],
   "source": [
    "# Initializing BootStrapFeatImp object\n",
    "btstrp_featimp = BootstrapFeatImp(num_df, encoded_cat_df, y, cv_folds)"
   ]
  },
  {
   "cell_type": "code",
   "execution_count": null,
   "id": "dc3b2a73",
   "metadata": {},
   "outputs": [],
   "source": [
    "# Numerical Features Importance\n",
    "numfeat_df, numfeat_noise_df = btstrp_featimp.run_numfeat_wrapper()"
   ]
  },
  {
   "cell_type": "code",
   "execution_count": null,
   "id": "b44f0cb9",
   "metadata": {},
   "outputs": [],
   "source": [
    "# Saving the details..\n",
    "numfeat_df.to_csv(\"inst_medicaid_numfeat_df.csv\", index=False)\n",
    "numfeat_noise_df.to_csv(\"inst_medicaid_numfeat_noise_df.csv\", index=False)"
   ]
  },
  {
   "cell_type": "code",
   "execution_count": null,
   "id": "c4fea868",
   "metadata": {},
   "outputs": [],
   "source": [
    "numfeat_noise_df"
   ]
  },
  {
   "cell_type": "code",
   "execution_count": null,
   "id": "bcbc5f17",
   "metadata": {},
   "outputs": [],
   "source": [
    "# Categorical Features Importance\n",
    "catfeat_df, catfeat_noise_df = btstrp_featimp.run_catfeat_wrapper()"
   ]
  },
  {
   "cell_type": "code",
   "execution_count": null,
   "id": "6bf8b2f5",
   "metadata": {},
   "outputs": [],
   "source": [
    "# Saving the details..\n",
    "catfeat_df.to_csv(\"inst_medicaid_catfeat_df_v2.csv\", index=False)\n",
    "catfeat_noise_df.to_csv(\"inst_medicaid_catfeat_noise_df_v2.csv\", index=False)"
   ]
  },
  {
   "cell_type": "code",
   "execution_count": null,
   "id": "28aa6280",
   "metadata": {},
   "outputs": [],
   "source": [
    "catfeat_noise_df"
   ]
  },
  {
   "cell_type": "code",
   "execution_count": null,
   "id": "66d26c10",
   "metadata": {},
   "outputs": [],
   "source": []
  }
 ],
 "metadata": {
  "kernelspec": {
   "display_name": "wqp_kernel",
   "language": "python",
   "name": "wqp_env"
  },
  "language_info": {
   "codemirror_mode": {
    "name": "ipython",
    "version": 3
   },
   "file_extension": ".py",
   "mimetype": "text/x-python",
   "name": "python",
   "nbconvert_exporter": "python",
   "pygments_lexer": "ipython3",
   "version": "3.6.13"
  }
 },
 "nbformat": 4,
 "nbformat_minor": 5
}
