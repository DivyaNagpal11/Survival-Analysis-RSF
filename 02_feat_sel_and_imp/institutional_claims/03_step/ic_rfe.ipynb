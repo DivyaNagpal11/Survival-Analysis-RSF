{
 "cells": [
  {
   "cell_type": "code",
   "execution_count": null,
   "id": "003e6ae9",
   "metadata": {},
   "outputs": [],
   "source": [
    "import sys\n",
    "import pickle\n",
    "import warnings\n",
    "import pandas as pd\n",
    "from collections import defaultdict\n",
    "\n",
    "warnings.filterwarnings(\"ignore\")"
   ]
  },
  {
   "cell_type": "code",
   "execution_count": null,
   "id": "b6a624d8",
   "metadata": {},
   "outputs": [],
   "source": [
    "# Adding dependency python files to sys path\n",
    "sys.path[1:1] = [\"/home/ec2-user/SageMaker/GitHub Repos/cipy/cipy/\"]\n",
    "sys.path[2:2] = [\"/home/ec2-user/SageMaker/Users/SP056963/work_queue_prioritization_v2/\"]\n",
    "sys.path[3:3] = [\"/home/ec2-user/SageMaker/Users/SP056963/work_queue_prioritization_v2/02_feat_sel_and_imp/\"]\n",
    "sys.path[4:4] = [\"/home/ec2-user/SageMaker/Users/SP056963/work_queue_prioritization_v2/02_feat_sel_and_imp/institutional_claims/02_step\"]\n",
    "\n",
    "sys.path"
   ]
  },
  {
   "cell_type": "code",
   "execution_count": null,
   "id": "c608db2c",
   "metadata": {},
   "outputs": [],
   "source": [
    "from wqp_methods import *"
   ]
  },
  {
   "cell_type": "code",
   "execution_count": null,
   "id": "4e2e9a5d",
   "metadata": {},
   "outputs": [],
   "source": [
    "# Reading the Institutional claims dataset\n",
    "ref_col= \"claim_filing_ind_code3\"\n",
    "\n",
    "# csv_path for Institutional Claims Data Path\n",
    "csv_path = \"/home/ec2-user/SageMaker/Users/SP056963/work_queue_prioritization_v2/01_data_preprocessing/preprocessed_datasets/\"\n",
    "\n",
    "# Loading the institutional claims dataset into inst_claims\n",
    "inst_claims = pd.read_csv(csv_path+\"ic_preprocessed_dataset_2021-06-06.csv\")\n",
    "\n",
    "# Creating the event_flag - for survival analysis.\n",
    "inst_claims[\"event_flag\"] = True"
   ]
  },
  {
   "cell_type": "code",
   "execution_count": null,
   "id": "a0cea5fa",
   "metadata": {},
   "outputs": [],
   "source": [
    "claim_filing_ind_codes = inst_claims[ref_col].unique()"
   ]
  },
  {
   "cell_type": "code",
   "execution_count": null,
   "id": "a051b187",
   "metadata": {},
   "outputs": [],
   "source": [
    "rfe_feat_file = \"ic_features_for_rfe.pickle\"\n",
    "\n",
    "with open(rfe_feat_file, \"rb\") as input_file:\n",
    "    rfe_feat_op = pickle.load(input_file)"
   ]
  },
  {
   "cell_type": "code",
   "execution_count": null,
   "id": "769db8c9",
   "metadata": {},
   "outputs": [],
   "source": [
    "cfic_tracker = {}\n",
    "\n",
    "for claim_filing_ind_code in claim_filing_ind_codes:\n",
    "    \n",
    "    print(\"Claim Filing Indicator Code: {}\".format(claim_filing_ind_code))\n",
    "    \n",
    "    cfic_df = inst_claims[inst_claims[ref_col]==claim_filing_ind_code].reset_index(drop=True)\n",
    "\n",
    "    folds = get_folds(cfic_df)\n",
    "    \n",
    "    cfic=\"\"\n",
    "    if \"medicaid\" in claim_filing_ind_code.lower():\n",
    "        cfic = \"medicaid\"\n",
    "    elif \"medicare\" in claim_filing_ind_code.lower():\n",
    "        cfic = \"medicare\"\n",
    "    else:\n",
    "        cfic = \"commercial\"\n",
    "        \n",
    "    num_feats = ic_features_for_rfe[cfic][\"num_feat\"]\n",
    "    cat_feats = ic_features_for_rfe[cfic][\"cat_feat\"]\n",
    "\n",
    "    encoder_dict = defaultdict(LabelEncoder)\n",
    "    cat_df = cfic_df[cat_feats].astype(\"str\")\n",
    "    cat_df = cat_df.apply(lambda x: encoder_dict[x.name].fit_transform(x))\n",
    "\n",
    "    num_df = cfic_df[num_feats]\n",
    "\n",
    "    res_df = cfic_df[[\"response_time\", \"event_flag\"]]\n",
    "\n",
    "    rsf_df = pd.concat([num_df, cat_df, res_df], axis=1)\n",
    "    \n",
    "    features_tracker, c_index_tracker, feat_imp_tracker = recursive_feature_elimination(folds, rsf_df, num_feats+cat_feats)\n",
    "    \n",
    "    cfic_tracker[claim_filing_ind_code] = (features_tracker, c_index_tracker, feat_imp_tracker)"
   ]
  },
  {
   "cell_type": "code",
   "execution_count": null,
   "id": "6e23c9d2",
   "metadata": {},
   "outputs": [],
   "source": [
    "pickle.dump(cfic_tracker, open(\"ic_rfe_output.pickle\", \"wb\"))"
   ]
  }
 ],
 "metadata": {
  "kernelspec": {
   "display_name": "wqp_kernel",
   "language": "python",
   "name": "wqp_env"
  },
  "language_info": {
   "codemirror_mode": {
    "name": "ipython",
    "version": 3
   },
   "file_extension": ".py",
   "mimetype": "text/x-python",
   "name": "python",
   "nbconvert_exporter": "python",
   "pygments_lexer": "ipython3",
   "version": "3.6.13"
  }
 },
 "nbformat": 4,
 "nbformat_minor": 5
}
