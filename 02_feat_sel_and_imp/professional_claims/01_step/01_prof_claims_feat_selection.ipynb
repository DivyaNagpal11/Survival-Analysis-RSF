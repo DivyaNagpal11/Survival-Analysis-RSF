{
 "cells": [
  {
   "cell_type": "code",
   "execution_count": null,
   "metadata": {},
   "outputs": [],
   "source": [
    "import sys\n",
    "import json\n",
    "import pandas as pd\n",
    "import warnings\n",
    "\n",
    "warnings.filterwarnings(\"ignore\")"
   ]
  },
  {
   "cell_type": "code",
   "execution_count": null,
   "metadata": {},
   "outputs": [],
   "source": [
    "sys.path[1:1] = [\"/home/ec2-user/SageMaker/GitHub Repos/cipy/cipy/\"]\n",
    "\n",
    "sys.path[2:2] = [\"/home/ec2-user/SageMaker/Users/SP056963/work_queue_prioritization_v2/\"]"
   ]
  },
  {
   "cell_type": "code",
   "execution_count": null,
   "metadata": {},
   "outputs": [],
   "source": [
    "sys.path"
   ]
  },
  {
   "cell_type": "code",
   "execution_count": null,
   "metadata": {},
   "outputs": [],
   "source": [
    "from wqp_methods import *"
   ]
  },
  {
   "cell_type": "code",
   "execution_count": null,
   "metadata": {},
   "outputs": [],
   "source": [
    "# Defining the file paths\n",
    "\n",
    "# csv_path for Professional claims data path\n",
    "csv_path= \"/home/ec2-user/SageMaker/Users/SP056963/work_queue_prioritization_v2/01_data_preprocessing/preprocessed_datasets/\"\n",
    "\n",
    "# feature_file path for Numerical and Categorical column names \n",
    "feature_file = \"/home/ec2-user/SageMaker/Users/SP056963/work_queue_prioritization_v2/02_feat_sel_and_imp/professional_claims/json_files/\"\n",
    "\n",
    "# path to save categorical & numerical filtered columns and categorical & numerical statistics for each claim_filing_indicator_code\n",
    "output_path = \"/home/ec2-user/SageMaker/Users/SP056963/work_queue_prioritization_v2/02_feat_sel_and_imp/professional_claims/02_step/\""
   ]
  },
  {
   "cell_type": "code",
   "execution_count": null,
   "metadata": {},
   "outputs": [],
   "source": [
    "# Loading the institutional claims dataset into inst_claims\n",
    "prof_claims = pd.read_csv(csv_path+\"pc_preprocessed_dataset_2021-06-01.csv\")"
   ]
  },
  {
   "cell_type": "code",
   "execution_count": null,
   "metadata": {},
   "outputs": [],
   "source": [
    "# Loading the Categorical Column Names List\n",
    "with open(feature_file+\"pc_cat_cols.json\") as f:\n",
    "    cat_list = json.load(f)"
   ]
  },
  {
   "cell_type": "code",
   "execution_count": null,
   "metadata": {},
   "outputs": [],
   "source": [
    "# Loading the Numercial Column Names List\n",
    "with open(feature_file+\"pc_num_cols.json\") as f:\n",
    "    num_list = json.load(f)"
   ]
  },
  {
   "cell_type": "code",
   "execution_count": null,
   "metadata": {},
   "outputs": [],
   "source": [
    "# Models will be created for each unique ref_col value\n",
    "ref_col = \"claim_filing_ind_code3\"\n",
    "\n",
    "# Retrieve the unique claim filing indicator code values\n",
    "claim_filing_indicator_codes = set(prof_claims[ref_col])"
   ]
  },
  {
   "cell_type": "code",
   "execution_count": null,
   "metadata": {},
   "outputs": [],
   "source": [
    "right_tail_clipping_dict = {\"Medicaid\":0.98, \"Commercial Insurance Co.\": 0.99, \"Medicare Part B\": 0.99}"
   ]
  },
  {
   "cell_type": "code",
   "execution_count": null,
   "metadata": {},
   "outputs": [],
   "source": [
    "prof_claims_filtered_features_dict = {}\n",
    "\n",
    "for claim_filing_indicator_code in claim_filing_indicator_codes:    \n",
    "    print(\"Claim Filing Indicator Code: \", claim_filing_indicator_code)\n",
    "    \n",
    "    # Retrieving data specific to claim_filing_indicator_code\n",
    "    cfic_df = prof_claims[prof_claims[ref_col]==claim_filing_indicator_code].reset_index(drop=True)\n",
    "    \n",
    "    # Considering a claim_file_indicator_code only if it has more than 200 observations\n",
    "    if cfic_df.shape[0] <= 200:\n",
    "        print(\"\\t Claim filing indicator code {} has less than 200 observations, hence we're not consider this for modeling\".format(claim_filing_indicator_code))\n",
    "        continue\n",
    "    \n",
    "    # Shape of claim_filing_indicator_code specific data\n",
    "    print(\"\\t Dataset shape: {}\".format(cfic_df.shape))\n",
    "    \n",
    "    # Clipping the response_time values which are greater than 99th Percentile\n",
    "    cfic_df = clip_right_tail2(cfic_df, right_tail_clipping_dict[claim_filing_indicator_code])\n",
    "    \n",
    "    # Retrieving Categorical Columns\n",
    "    cat_df = cfic_df[cat_list]\n",
    "    \n",
    "    # Filter Categorical Columns based on missingness, cardinality etc.\n",
    "    cat_stats, filtered_cat_cols_tracker = filter_cat_cols(cat_df)\n",
    "    \n",
    "    # Retrieve the retained final categorical columns\n",
    "    final_cat_cols = list(cat_stats.index)\n",
    "\n",
    "    # Retrieving Numerical Columns\n",
    "    num_df = cfic_df[num_list]\n",
    "    \n",
    "    # Filter Numerical Columns based on missingness and variance threshold etc.\n",
    "    num_stats, filtered_num_cols_tracker = filter_numeric_cols(num_df)\n",
    "    \n",
    "    # Retrieve the retained final numerical columns\n",
    "    final_num_cols = list(num_stats.index)\n",
    "    \n",
    "    prof_claims_filtered_features_dict[claim_filing_indicator_code] = {\"filtered_cat_cols_tracker\": filtered_cat_cols_tracker, \n",
    "                                                                       \"final_cat_cols\": final_cat_cols, \n",
    "                                                                       \"filtered_num_cols_tracker\": filtered_num_cols_tracker, \n",
    "                                                                       \"final_num_cols\": final_num_cols, \n",
    "                                                                       \"cat_stats\": cat_stats,\n",
    "                                                                       \"num_stats\": num_stats}"
   ]
  },
  {
   "cell_type": "code",
   "execution_count": null,
   "metadata": {},
   "outputs": [],
   "source": [
    "prof_claims_filtered_features_dict"
   ]
  },
  {
   "cell_type": "code",
   "execution_count": null,
   "metadata": {},
   "outputs": [],
   "source": [
    "# Saving inst_claims_filtered_features_dict to a pickle file\n",
    "pickl(\"/home/ec2-user/SageMaker/Users/SP056963/work_queue_prioritization_v2/02_feat_sel_and_imp/professional_claims/02_step/prof_claims_cat_num_filtered_feature_details.pickle\", prof_claims_filtered_features_dict)"
   ]
  },
  {
   "cell_type": "code",
   "execution_count": null,
   "metadata": {},
   "outputs": [],
   "source": []
  }
 ],
 "metadata": {
  "kernelspec": {
   "display_name": "wqp_kernel",
   "language": "python",
   "name": "wqp_env"
  },
  "language_info": {
   "codemirror_mode": {
    "name": "ipython",
    "version": 3
   },
   "file_extension": ".py",
   "mimetype": "text/x-python",
   "name": "python",
   "nbconvert_exporter": "python",
   "pygments_lexer": "ipython3",
   "version": "3.6.13"
  }
 },
 "nbformat": 4,
 "nbformat_minor": 4
}
