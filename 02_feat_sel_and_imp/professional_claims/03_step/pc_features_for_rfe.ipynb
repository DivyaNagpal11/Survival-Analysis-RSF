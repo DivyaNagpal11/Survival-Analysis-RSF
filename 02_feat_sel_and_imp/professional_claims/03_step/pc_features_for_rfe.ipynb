{
 "cells": [
  {
   "cell_type": "code",
   "execution_count": null,
   "id": "65c65cf9",
   "metadata": {},
   "outputs": [],
   "source": [
    "import os\n",
    "import pickle\n",
    "import pandas as pd"
   ]
  },
  {
   "cell_type": "code",
   "execution_count": null,
   "id": "7618e3c7",
   "metadata": {},
   "outputs": [],
   "source": [
    "inst_feat_imp_path = \"/home/ec2-user/SageMaker/Users/SP056963/work_queue_prioritization_v2/02_feat_sel_and_imp/professional_claims/02_step/\""
   ]
  },
  {
   "cell_type": "code",
   "execution_count": null,
   "id": "80d2c007",
   "metadata": {},
   "outputs": [],
   "source": [
    "ic_features_for_rfe = {\"medicare\": {\"num_feat\":[], \"cat_feat\":[]},\n",
    "                      \"medicaid\": {\"num_feat\":[], \"cat_feat\":[]},\n",
    "                      \"commercial\":{\"num_feat\":[], \"cat_feat\":[]}}\n",
    "\n",
    "for model_name in [\"medicare\", \"medicaid\", \"commercial\"]:\n",
    "    \n",
    "    print(\"Model: \", model_name)\n",
    "    \n",
    "    dir_path = inst_feat_imp_path+model_name\n",
    "    \n",
    "    for file_name in os.listdir(dir_path):\n",
    "        \n",
    "        if any(x in file_name for x in [\"numfeat_noise_df\", \"catfeat_noise_df\"]):\n",
    "            if model_name != \"commercial\" and \"catfeat_noise_df\" in file_name and \"v2\" not in file_name:\n",
    "                continue\n",
    "                        \n",
    "            print(file_name)\n",
    "            \n",
    "            feat_imp_df = pd.read_csv(dir_path+\"/\"+file_name)\n",
    "            \n",
    "            feat_imp_df[\"gt_fifty_per\"] = round(feat_imp_df[\"ge_noise\"]/500, 2)*100\n",
    "            mask = feat_imp_df[\"gt_fifty_per\"]>=50\n",
    "            print(feat_imp_df.loc[mask, [\"feature_name\", \"ge_noise\"]])\n",
    "            \n",
    "            if \"numfeat\" in file_name:\n",
    "                ic_features_for_rfe[model_name][\"num_feat\"] = list(feat_imp_df.loc[mask, \"feature_name\"])\n",
    "            elif \"catfeat\" in file_name:\n",
    "                ic_features_for_rfe[model_name][\"cat_feat\"] = list(feat_imp_df.loc[mask, \"feature_name\"])"
   ]
  },
  {
   "cell_type": "code",
   "execution_count": null,
   "id": "fec065c7",
   "metadata": {},
   "outputs": [],
   "source": [
    "ic_features_for_rfe"
   ]
  },
  {
   "cell_type": "code",
   "execution_count": null,
   "id": "1eb6d4a3",
   "metadata": {},
   "outputs": [],
   "source": [
    "pickle.dump(ic_features_for_rfe, open(\"pc_features_for_rfe.pickle\", \"wb\"))"
   ]
  }
 ],
 "metadata": {
  "kernelspec": {
   "display_name": "wqp_kernel",
   "language": "python",
   "name": "wqp_env"
  },
  "language_info": {
   "codemirror_mode": {
    "name": "ipython",
    "version": 3
   },
   "file_extension": ".py",
   "mimetype": "text/x-python",
   "name": "python",
   "nbconvert_exporter": "python",
   "pygments_lexer": "ipython3",
   "version": "3.6.13"
  }
 },
 "nbformat": 4,
 "nbformat_minor": 5
}
