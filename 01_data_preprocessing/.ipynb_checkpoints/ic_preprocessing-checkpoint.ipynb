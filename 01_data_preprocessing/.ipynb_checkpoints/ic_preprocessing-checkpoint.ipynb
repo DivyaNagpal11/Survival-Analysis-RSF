{
 "cells": [
  {
   "cell_type": "code",
   "execution_count": null,
   "metadata": {},
   "outputs": [],
   "source": [
    "import sys\n",
    "import pickle\n",
    "import warnings\n",
    "import pandas as pd\n",
    "from datetime import date\n",
    "import s3fs\n",
    "import boto3\n",
    "\n",
    "warnings.filterwarnings(\"ignore\")"
   ]
  },
  {
   "cell_type": "code",
   "execution_count": null,
   "metadata": {},
   "outputs": [],
   "source": [
    "sys.path[1:1] = [\"/home/ec2-user/SageMaker/Users/SP056963/work_queue_prioritization_v2/01_data_preprocessing/preprocessing_scripts\"]"
   ]
  },
  {
   "cell_type": "code",
   "execution_count": null,
   "metadata": {},
   "outputs": [],
   "source": [
    "from inst_claims_preprocessing_methods import InstClaimsPreprocessing"
   ]
  },
  {
   "cell_type": "code",
   "execution_count": null,
   "metadata": {},
   "outputs": [],
   "source": [
    "icp = InstClaimsPreprocessing()"
   ]
  },
  {
   "cell_type": "code",
   "execution_count": null,
   "metadata": {},
   "outputs": [],
   "source": [
    "json_path = \"/home/ec2-user/SageMaker/Users/SP056963/work_queue_prioritization_v2/01_data_preprocessing/preprocessing_artifacts/institutional_artifacts/\""
   ]
  },
  {
   "cell_type": "code",
   "execution_count": null,
   "metadata": {},
   "outputs": [],
   "source": [
    "# columns list to identify a claim uniquely\n",
    "ref_cols = icp.read_json(path=json_path, file_name=\"ref_cols.json\")\n",
    "ref_cols = ref_cols[\"ref_cols\"]\n",
    "\n",
    "# additional cols used\n",
    "cols_for_sa = icp.read_json(path=json_path, file_name=\"cols_for_sa.json\")\n",
    "cols_for_sa = cols_for_sa[\"cols_for_sa\"]\n",
    "\n",
    "# rename claims cols\n",
    "rename_cols = icp.read_json(path=json_path, file_name=\"rename_cols.json\")"
   ]
  },
  {
   "cell_type": "code",
   "execution_count": null,
   "metadata": {},
   "outputs": [],
   "source": [
    "#PreprocessingConfigForIC.json has paths to data files, and external files such as Dx codes to CCSR etc\n",
    "config = icp.read_json(path=json_path, file_name=\"preprocessing_config.json\")"
   ]
  },
  {
   "cell_type": "code",
   "execution_count": null,
   "metadata": {
    "scrolled": false
   },
   "outputs": [],
   "source": [
    "claims_data = pd.read_pickle(\"s3://cerner-mlecosystem-processing-us-west-2-dsprod/manual-uploads/hdx/Extracts Backup/Pickle files/837I_paired_version2.pkl\")\n",
    "    \n",
    "payers_claims_counts = pd.read_csv(config[\"payer_claim_counts\"])\n",
    "    \n",
    "revenue_codes = pd.read_csv(config[\"rev_codes_path\"])\n",
    "    \n",
    "#CCSR codes are used for ICD-10-CM codes\n",
    "dx_ccsr = pd.read_csv(config[\"ccsr_path\"])\n",
    "    \n",
    "#CCS codes are used for ICD-10-PCM codes\n",
    "dx_ccs = pd.read_csv(config[\"ccs_path\"])\n",
    "    \n",
    "ndc_codes = pd.read_csv(config[\"ndc_codes_path\"], dtype=str)\n",
    "    \n",
    "    \n",
    "drg_codes = pd.read_csv(config[\"drg_codes_path\"], dtype=str)\n",
    "drg_codes.rename(columns={\"Description\": \"Drg_Description\"}, inplace=True)\n",
    "    \n",
    "cond_codes = pd.read_csv(config[\"cond_codes_path\"], dtype=str)\n",
    "    \n",
    "value_codes = pd.read_csv(config[\"val_codes_path\"], dtype=str)\n",
    "value_codes = value_codes.drop(columns=[\"Long_description\"])\n",
    "    \n",
    "occur_codes = pd.read_csv(config[\"occur_info_path\"], dtype=str)\n",
    "occur_codes = occur_codes.drop(columns=[\"Long_Description\"])\n",
    "\n",
    "hcpcs_codes = pd.read_csv(config[\"hcpcs_codes_path\"], dtype=str)\n",
    "hcpcs_codes = hcpcs_codes.drop(columns=[\"Category\", \"Types\", \"Code\"])\n",
    "\n",
    "occur_span_codes = pd.read_csv(config[\"occur_span_path\"], dtype=str)\n",
    "occur_span_codes = occur_span_codes.drop(columns=[\"Long_description\"])"
   ]
  },
  {
   "cell_type": "code",
   "execution_count": null,
   "metadata": {},
   "outputs": [],
   "source": [
    "hcpcs_codes = icp.add_prefix_strings(hcpcs_codes, \"HCPCSCode_\", [\"Section\"])"
   ]
  },
  {
   "cell_type": "code",
   "execution_count": null,
   "metadata": {},
   "outputs": [],
   "source": [
    "ndc_codes = icp.add_prefix_strings(ndc_codes, \"NDCCode_\", [\"Concept_Name\"])"
   ]
  },
  {
   "cell_type": "code",
   "execution_count": null,
   "metadata": {},
   "outputs": [],
   "source": [
    "revenue_codes = icp.add_prefix_strings(revenue_codes, \"RevCode_\", [\"Category\", \"Description\", \"Major Category Description\"])"
   ]
  },
  {
   "cell_type": "markdown",
   "metadata": {},
   "source": [
    "### Creating count_of_lineitems feature"
   ]
  },
  {
   "cell_type": "code",
   "execution_count": null,
   "metadata": {},
   "outputs": [],
   "source": [
    "# claims_data shape before creating count_of_lineitems feature\n",
    "rows_count1, cols_count1 = claims_data.shape[0], claims_data.shape[1]\n",
    "\n",
    "# adding an extra feature count_of_lineitems to claims_data\n",
    "claims_data = icp.get_count_of_lineitems(claims_data, ref_cols)\n",
    "\n",
    "# claims_data shape after creating count_of_lineitems feature\n",
    "rows_count2, cols_count2 = claims_data.shape[0], claims_data.shape[1]\n",
    "\n",
    "# the number of observations shouldn't change, asserting the same\n",
    "assert (rows_count1==rows_count2), \"Error! The number of observations are not constant as expected.\"\n",
    "\n",
    "# asserting whether the feature was created or not\n",
    "assert (cols_count1+1==cols_count2), \"Error! count_of_lineitems feature was not created as expected.\""
   ]
  },
  {
   "cell_type": "markdown",
   "metadata": {},
   "source": [
    "### Validating count_of_lineitems feature:"
   ]
  },
  {
   "cell_type": "markdown",
   "metadata": {},
   "source": [
    "#### Case-1: count_of_lineitems shouldn't be zero."
   ]
  },
  {
   "cell_type": "code",
   "execution_count": null,
   "metadata": {},
   "outputs": [],
   "source": [
    "zero_mask = claims_data[\"count_of_lineitems\"]==0\n",
    "assert (sum(zero_mask)==0), \"Error! There are claims with zero count_of_lineitems in dataset\""
   ]
  },
  {
   "cell_type": "markdown",
   "metadata": {},
   "source": [
    "#### Case-2: Randomly select a claim file and check if the number of line items is equal to the count_of_lineitems value or not."
   ]
  },
  {
   "cell_type": "code",
   "execution_count": null,
   "metadata": {},
   "outputs": [],
   "source": [
    "random_sample = claims_data[ref_cols].drop_duplicates(keep=\"first\").sample(1)\n",
    "print(f\"Claim Submitter Id is:{random_sample[ref_cols[3]].unique()[0]}\")\n",
    "ref_ident, date, time, claim_submitter_id = random_sample[ref_cols[0]].values, random_sample[ref_cols[1]].values, random_sample[ref_cols[2]].values, random_sample[ref_cols[3]].values\n",
    "\n",
    "mask1 = claims_data[ref_cols[0]]==ref_ident[0]\n",
    "mask2 = claims_data[ref_cols[1]]==date[0]\n",
    "mask3 = claims_data[ref_cols[2]]==time[0]\n",
    "mask4 = claims_data[ref_cols[3]]==claim_submitter_id[0]\n",
    "\n",
    "random_sample_df = claims_data[(mask1) & (mask2) & (mask3) & (mask4)]\n",
    "assert(random_sample_df.shape[0]==list(random_sample_df[\"count_of_lineitems\"].unique())[0]), \"Error! The number of line items and count_of_lineitems are not matching.\""
   ]
  },
  {
   "cell_type": "code",
   "execution_count": null,
   "metadata": {},
   "outputs": [],
   "source": [
    "icp.get_numeric_cols"
   ]
  },
  {
   "cell_type": "markdown",
   "metadata": {},
   "source": [
    "### Creating the below aggregate features:\n",
    "- sum:\n",
    "    - days_sum_quantity\n",
    "    - units_sum_quantity\n",
    "- mean:\n",
    "    - days_mean_quantity\n",
    "    - units_mean_quantity\n",
    "- median:\n",
    "    - days_median_quantity\n",
    "    - units_median_quantity"
   ]
  },
  {
   "cell_type": "code",
   "execution_count": null,
   "metadata": {},
   "outputs": [],
   "source": [
    "# claims_data shape before creating aggregate features\n",
    "rows_count1, cols_count1 = claims_data.shape[0], claims_data.shape[1]\n",
    "\n",
    "# adding six additional features to claims_data\n",
    "claims_data = icp.get_agg_features(claims_data, ref_cols, \"DA\")\n",
    "\n",
    "# claims_data shape after creating aggregate features\n",
    "rows_count2, cols_count2 = claims_data.shape[0], claims_data.shape[1]\n",
    "\n",
    "# the number of observations shouldn't change, asserting the same\n",
    "assert (rows_count1==rows_count2), \"Error! The number of observations are not constant as expected.\"\n",
    "\n",
    "# asserting whether the feature was created or not\n",
    "assert (cols_count1+6==cols_count2), \"Error! Aggregate features were not created as expected.\""
   ]
  },
  {
   "cell_type": "code",
   "execution_count": null,
   "metadata": {},
   "outputs": [],
   "source": [
    "# adding aggregate features to numeric columns list\n",
    "icp.append_to_numeric_cols([\"days_sum_quantity\", \n",
    "                            \"units_sum_quantity\",\n",
    "                            \"days_mean_quantity\",\n",
    "                            \"units_mean_quantity\", \n",
    "                            \"days_median_quantity\", \n",
    "                            \"units_median_quantity\"])"
   ]
  },
  {
   "cell_type": "markdown",
   "metadata": {},
   "source": [
    "### Creating \"count_of_other_subscribers\" feature"
   ]
  },
  {
   "cell_type": "code",
   "execution_count": null,
   "metadata": {},
   "outputs": [],
   "source": [
    "# claims_data shape before creating count_of_other_subscribers feature\n",
    "rows_count1, cols_count1 = claims_data.shape[0], claims_data.shape[1]\n",
    "\n",
    "# creating count_of_other_subscribers feature\n",
    "claims_data = icp.get_count_of_other_subscribers(claims_data)\n",
    "\n",
    "# claims_data shape after creating count_of_other_subscribers feature\n",
    "rows_count2, cols_count2 = claims_data.shape[0], claims_data.shape[1]\n",
    "\n",
    "# the number of observations shouldn't change, asserting the same\n",
    "assert (rows_count1==rows_count2), \"Error! The number of observations are not constant as expected.\"\n",
    "\n",
    "# asserting whether the feature was created or not\n",
    "assert (cols_count1+1==cols_count2), \"Error! count_of_other_subscribers feature was not created as expected.\""
   ]
  },
  {
   "cell_type": "markdown",
   "metadata": {},
   "source": [
    "### Creating \"count_of_invest_dev_exemp\" feature"
   ]
  },
  {
   "cell_type": "code",
   "execution_count": null,
   "metadata": {},
   "outputs": [],
   "source": [
    "# claims_data shape before creating count_of_invest_dev_exemp feature\n",
    "rows_count1, cols_count1 = claims_data.shape[0], claims_data.shape[1]\n",
    "\n",
    "# creating count_of_invest_dev_exemp feature\n",
    "claims_data = icp.get_count_of_invest_dev_exemp(claims_data)\n",
    "\n",
    "# claims_data shape after creating count_of_invest_dev_exemp feature\n",
    "rows_count2, cols_count2 = claims_data.shape[0], claims_data.shape[1]\n",
    "\n",
    "# the number of observations shouldn't change, asserting the same\n",
    "assert (rows_count1==rows_count2), \"Error! The number of observations are not constant as expected.\"\n",
    "\n",
    "# asserting whether the feature was created or not\n",
    "assert (cols_count1+1==cols_count2), \"Error! count_of_invest_dev_exemp feature was not created as expected.\""
   ]
  },
  {
   "cell_type": "markdown",
   "metadata": {},
   "source": [
    "### Reducing all categories with value_counts() less than 1% of the total under \"revenue codes\" into \"other_revcodes\""
   ]
  },
  {
   "cell_type": "code",
   "execution_count": null,
   "metadata": {},
   "outputs": [],
   "source": [
    "# claims_data shape before creating count_of_lineitems feature\n",
    "rows_count1, cols_count1 = claims_data.shape[0], claims_data.shape[1]\n",
    "\n",
    "column_name = \"Loop2400_SV2-Segment-InstitutionalServiceLine_SV201-Product/ServiceID-234\"\n",
    "claims_data = icp.reduce_unique_values(claims_data, column_name, \"reduced_serviceline_revcode\", 1, \"other_revcodes\")\n",
    "\n",
    "# claims_data shape before creating count_of_lineitems feature\n",
    "rows_count2, cols_count2 = claims_data.shape[0], claims_data.shape[1]\n",
    "\n",
    "# the number of observations shouldn't change, asserting the same\n",
    "assert (rows_count1==rows_count2), \"Error! The number of observations are not constant as expected.\"\n",
    "\n",
    "# asserting whether the feature was created or not\n",
    "assert (cols_count1+1==cols_count2), \"Error! reduced_serviceline_revcode column was not created as expected.\""
   ]
  },
  {
   "cell_type": "markdown",
   "metadata": {},
   "source": [
    "### Reducing all categories with value_counts() less than 1% of the total under \"hcpc codes\" into \"other_hcpcscodes\""
   ]
  },
  {
   "cell_type": "code",
   "execution_count": null,
   "metadata": {},
   "outputs": [],
   "source": [
    "# claims_data shape before creating count_of_lineitems feature\n",
    "rows_count1, cols_count1 = claims_data.shape[0], claims_data.shape[1]\n",
    "\n",
    "column_name = \"Loop2400_SV2-Segment-InstitutionalServiceLine_SV202-COMPOSITEMEDICALPROCEDUREIDENTIFIER-Composite-C003_02-Product/ServiceID-234\"\n",
    "claims_data = icp.reduce_unique_values(claims_data, column_name, \"reduced_serviceline_hcpcscode\", 1, \"other_hcpcscodes\")\n",
    "\n",
    "# claims_data shape before creating count_of_lineitems feature\n",
    "rows_count2, cols_count2 = claims_data.shape[0], claims_data.shape[1]\n",
    "\n",
    "# the number of observations shouldn't change, asserting the same\n",
    "assert (rows_count1==rows_count2), \"Error! The number of observations are not constant as expected.\"\n",
    "\n",
    "# asserting whether the feature was created or not\n",
    "assert (cols_count1+1==cols_count2), \"Error! count_of_lineitems feature was not created as expected.\""
   ]
  },
  {
   "cell_type": "markdown",
   "metadata": {},
   "source": [
    "### Reducing all categories with value_counts() less than 1% of the total under \"ndc codes\" into \"other_ndccodes\""
   ]
  },
  {
   "cell_type": "code",
   "execution_count": null,
   "metadata": {},
   "outputs": [],
   "source": [
    "# claims_data shape before creating count_of_lineitems feature\n",
    "rows_count1, cols_count1 = claims_data.shape[0], claims_data.shape[1]\n",
    "\n",
    "column_name = \"Loop2410_LIN-Segment-DrugIdentification_LIN03-Product/ServiceID-234\"\n",
    "claims_data = icp.reduce_unique_values(claims_data, column_name, \"reduced_serviceline_ndccode\", 1, \"other_ndccodes\")\n",
    "\n",
    "# claims_data shape before creating count_of_lineitems feature\n",
    "rows_count2, cols_count2 = claims_data.shape[0], claims_data.shape[1]\n",
    "\n",
    "# the number of observations shouldn't change, asserting the same\n",
    "assert (rows_count1==rows_count2), \"Error! The number of observations are not constant as expected.\"\n",
    "\n",
    "# asserting whether the feature was created or not\n",
    "assert (cols_count1+1==cols_count2), \"Error! count_of_lineitems feature was not created as expected.\""
   ]
  },
  {
   "cell_type": "markdown",
   "metadata": {},
   "source": [
    "### Converting \"revenue codes\" in \"reduced_serviceline_revcode\" column into their corresponding \"categories\""
   ]
  },
  {
   "cell_type": "code",
   "execution_count": null,
   "metadata": {},
   "outputs": [],
   "source": [
    "claims_data = claims_data.merge(revenue_codes[[\"Revenue Codes\", \"Category\"]], left_on=\"reduced_serviceline_revcode\", right_on=\"Revenue Codes\", how=\"left\")\n",
    "mask = claims_data[\"reduced_serviceline_revcode\"]==\"other_revcodes\"\n",
    "claims_data.loc[mask, \"Category\"] = \"other_revcodes\""
   ]
  },
  {
   "cell_type": "code",
   "execution_count": null,
   "metadata": {},
   "outputs": [],
   "source": [
    "claims_data.shape"
   ]
  },
  {
   "cell_type": "code",
   "execution_count": null,
   "metadata": {},
   "outputs": [],
   "source": [
    "column_name = \"Category\"\n",
    "claims_data = icp.serviceline_to_claimlevel(claims_data, ref_cols, column_name)\n",
    "\n",
    "if \"nan_value\" in claims_data.columns:\n",
    "    claims_data.drop(columns=[\"nan_value\"], inplace=True)"
   ]
  },
  {
   "cell_type": "code",
   "execution_count": null,
   "metadata": {
    "scrolled": true
   },
   "outputs": [],
   "source": [
    "claims_data.shape"
   ]
  },
  {
   "cell_type": "markdown",
   "metadata": {},
   "source": [
    "### Converting \"hcpcs codes\" in \"reduced_serviceline_hcpcscode\" column into their corresponding \"categories\""
   ]
  },
  {
   "cell_type": "code",
   "execution_count": null,
   "metadata": {},
   "outputs": [],
   "source": [
    "claims_data = claims_data.merge(hcpcs_codes, left_on=\"reduced_serviceline_hcpcscode\", right_on=\"CPT Codes\", how=\"left\")\n",
    "mask = claims_data[\"reduced_serviceline_hcpcscode\"]==\"other_hcpcscodes\"\n",
    "claims_data.loc[mask, \"Section\"] = \"other_hcpcscodes\""
   ]
  },
  {
   "cell_type": "code",
   "execution_count": null,
   "metadata": {},
   "outputs": [],
   "source": [
    "column_name = \"Section\"\n",
    "claims_data = icp.serviceline_to_claimlevel(claims_data, ref_cols, column_name)\n",
    "\n",
    "if \"nan_value\" in claims_data.columns:\n",
    "    claims_data.drop(columns=[\"nan_value\"], inplace=True)"
   ]
  },
  {
   "cell_type": "code",
   "execution_count": null,
   "metadata": {},
   "outputs": [],
   "source": [
    "claims_data.shape"
   ]
  },
  {
   "cell_type": "markdown",
   "metadata": {},
   "source": [
    "### Converting \"ndc codes\" in \"reduced_serviceline_ndccode\" column into their corresponding \"concept names\""
   ]
  },
  {
   "cell_type": "code",
   "execution_count": null,
   "metadata": {},
   "outputs": [],
   "source": [
    "claims_data = claims_data.merge(ndc_codes, left_on=\"reduced_serviceline_ndccode\", right_on=\"NDC_Code\", how=\"left\")\n",
    "mask = claims_data[\"reduced_serviceline_ndccode\"]==\"other_ndccodes\"\n",
    "claims_data.loc[mask, \"Concept_Name\"] = \"other_ndccodes\""
   ]
  },
  {
   "cell_type": "code",
   "execution_count": null,
   "metadata": {},
   "outputs": [],
   "source": [
    "column_name = \"Concept_Name\"\n",
    "claims_data = icp.serviceline_to_claimlevel(claims_data, ref_cols, column_name)\n",
    "\n",
    "if \"nan_value\" in claims_data.columns:\n",
    "    claims_data.drop(columns=[\"nan_value\"], inplace=True)"
   ]
  },
  {
   "cell_type": "code",
   "execution_count": null,
   "metadata": {},
   "outputs": [],
   "source": [
    "claims_data.shape"
   ]
  },
  {
   "cell_type": "markdown",
   "metadata": {},
   "source": [
    "### Retrieving Claim Level Data alone"
   ]
  },
  {
   "cell_type": "code",
   "execution_count": null,
   "metadata": {},
   "outputs": [],
   "source": [
    "# Creating additional_columns list for retrieving claim level data alone\n",
    "additional_cols = [col for col in claims_data.columns if \"RevCode_\" in col] \\\n",
    "                + [col for col in claims_data.columns if \"HCPCSCode_\" in col] \\\n",
    "                + [col for col in claims_data.columns if \"NDCCode_\" in col]\n",
    "\n",
    "additional_cols += [\"other_revcodes\", \"other_hcpcscodes\", \"other_ndccodes\"]\n",
    "\n",
    "# Adding additional_cols to categorical_columns list\n",
    "icp.append_to_categorical_cols(additional_cols)"
   ]
  },
  {
   "cell_type": "code",
   "execution_count": null,
   "metadata": {},
   "outputs": [],
   "source": [
    "# Retrieving claim level data alone - removing all duplicates, retaining the first occurrence.\n",
    "inst_claims_data = icp.get_claim_level_data(claims_data, ref_cols+cols_for_sa+additional_cols)\n",
    "inst_claims_data = inst_claims_data.drop_duplicates(ref_cols, keep=False)"
   ]
  },
  {
   "cell_type": "code",
   "execution_count": null,
   "metadata": {},
   "outputs": [],
   "source": [
    "inst_claims_data.shape, claims_data.shape"
   ]
  },
  {
   "cell_type": "markdown",
   "metadata": {},
   "source": [
    "### Renaming columns"
   ]
  },
  {
   "cell_type": "code",
   "execution_count": null,
   "metadata": {},
   "outputs": [],
   "source": [
    "# Renaming claim level columns\n",
    "inst_claims_data = inst_claims_data.rename(columns=rename_cols)"
   ]
  },
  {
   "cell_type": "markdown",
   "metadata": {},
   "source": [
    "#### Correcting payerName and claimFilingIndCode combinations\n",
    "#### JIRA: https://jira2.cerner.com/browse/INTELLIGEN-2314"
   ]
  },
  {
   "cell_type": "code",
   "execution_count": null,
   "metadata": {},
   "outputs": [],
   "source": [
    "# Correcting the payaer_name and claim_filing_indicator_code combinations\n",
    "inst_claims_data = icp.correct_payer_claimfiling_combinations(inst_claims_data)"
   ]
  },
  {
   "cell_type": "code",
   "execution_count": null,
   "metadata": {},
   "outputs": [],
   "source": [
    "# Validating if there are any payers with more than one claim_filing_indicator_code values\n",
    "columns = [\"payer_name\", \"claim_filing_ind_code2\"]\n",
    "temp_df = inst_claims_data[columns].groupby(columns).size().reset_index(name=\"count\")\n",
    "temp_df = temp_df.pivot_table(index=\"payer_name\", columns=\"claim_filing_ind_code2\")\n",
    "temp_df.columns = [j for i, j in temp_df.columns]\n",
    "correction_mask = temp_df.apply(lambda x: icp.has_multiple_claimfilingindicators(x), axis=1)\n",
    "\n",
    "assert (sum(correction_mask)==0), \"Error! payer_name and claim_filing_ind_code combinations are not corrected as expected.\""
   ]
  },
  {
   "cell_type": "code",
   "execution_count": null,
   "metadata": {},
   "outputs": [],
   "source": [
    "# Converting all ICD-10-CM code columns into CCSR Hierarchical Categories\n",
    "inst_claims_data = icp.code_mapping(inst_claims_data, dx_ccsr, \"PrincipalDiagnosis\", \"ICD_10_CM_CODE\", \"ccsr_category_1_code_\")\n",
    "inst_claims_data = icp.code_mapping(inst_claims_data, dx_ccsr, \"AdmittingDiagnosis\", \"ICD_10_CM_CODE\", \"ccsr_category_1_code_\")\n",
    "inst_claims_data = icp.code_mapping(inst_claims_data, dx_ccsr, \"Patient’SReasonForVisit\", \"ICD_10_CM_CODE\", \"ccsr_category_1_code_\")\n",
    "inst_claims_data = icp.code_mapping(inst_claims_data, dx_ccsr, \"ExternalCauseOfInjury_HI\", \"ICD_10_CM_CODE\", \"ccsr_category_1_code_\")\n",
    "inst_claims_data = icp.code_mapping(inst_claims_data, dx_ccsr, \"OtherDiagnosisInformation_HI\", \"ICD_10_CM_CODE\", \"ccsr_category_1_code_\")\n",
    "inst_claims_data = icp.code_mapping(inst_claims_data, dx_ccs, \"PrincipalProcedureInformation\", \"ICD_10_PCS_CODE\", \"ccs_description_\")\n",
    "inst_claims_data = icp.code_mapping(inst_claims_data, dx_ccs, \"OtherProcedureInformation_HI\", \"ICD_10_PCS_CODE\", \"ccs_description_\")"
   ]
  },
  {
   "cell_type": "code",
   "execution_count": null,
   "metadata": {},
   "outputs": [],
   "source": [
    "# Converting all of the below Segments code values into their corresponding descriptions\n",
    "inst_claims_data = icp.code_mapping(inst_claims_data, drg_codes, \"DiagnosisRelatedGroup\", \"DRG_Code\", \"Drg_Description_\")\n",
    "inst_claims_data = icp.code_mapping(inst_claims_data, cond_codes, \"ConditionInformation\",\"code_value\", \"description_\")\n",
    "inst_claims_data = icp.code_mapping(inst_claims_data, occur_span_codes, \"OccurrenceSpanInformation\", \"Occurrence_span_code\", \"Description_\")\n",
    "inst_claims_data = icp.code_mapping(inst_claims_data, occur_codes, \"OccurrenceInformation\", \"Occurrence_code\", \"Description_\")\n",
    "inst_claims_data = icp.code_mapping(inst_claims_data, value_codes, \"ValueInformation\", \"Value_codes\", \"Description_\")"
   ]
  },
  {
   "cell_type": "code",
   "execution_count": null,
   "metadata": {},
   "outputs": [],
   "source": [
    "# Adding all CCS, CCSR, DRG_Code etc to categorical columns list\n",
    "str_pattern = r\"ccsr_category_1_code_|ccs_description_|Drg_Description_|description_|Description_\"\n",
    "\n",
    "count_columns = list(inst_claims_data.filter(regex=str_pattern, axis=1).columns)\n",
    "icp.append_to_categorical_cols(count_columns)"
   ]
  },
  {
   "cell_type": "code",
   "execution_count": null,
   "metadata": {},
   "outputs": [],
   "source": [
    "# Creating Segment wise counts of CCSR categories with repetition and without repetiton\n",
    "inst_claims_data = icp.count_dx_codes(inst_claims_data)"
   ]
  },
  {
   "cell_type": "code",
   "execution_count": null,
   "metadata": {},
   "outputs": [],
   "source": [
    "# Adding all count_of and count_of_unique columns to numerical columns list\n",
    "count_columns = list(inst_claims_data.filter(regex=\"count_of\", axis=1).columns)\n",
    "icp.append_to_numeric_cols(count_columns)"
   ]
  },
  {
   "cell_type": "code",
   "execution_count": null,
   "metadata": {},
   "outputs": [],
   "source": [
    "#code values to description dictionaries\n",
    "\n",
    "entity_type_codes = icp.read_json(path=json_path, file_name=\"entity_type.json\")\n",
    "gender_codes = icp.read_json(path=json_path, file_name=\"gender_codes.json\")\n",
    "newborn_codes = icp.read_json(path=json_path, file_name=\"newborn_codes.json\")\n",
    "payer_resp_codes = icp.read_json(path=json_path, file_name=\"payer_resp_codes.json\")\n",
    "report_type_codes = icp.read_json(path=json_path, file_name=\"report_type_codes.json\")\n",
    "inpat_outpat_codes = icp.read_json(path=json_path, file_name=\"inpat_outpat_codes.json\")\n",
    "delay_reason_codes = icp.read_json(path=json_path, file_name=\"delay_reason_codes.json\")\n",
    "claim_filing_codes = icp.read_json(path=json_path, file_name=\"claim_filing_codes.json\")\n",
    "facility_code_values = icp.read_json(path=json_path, file_name=\"facility_code_values.json\")\n",
    "patient_status_codes = icp.read_json(path=json_path, file_name=\"patient_status_codes.json\")\n",
    "admission_type_codes = icp.read_json(path=json_path, file_name=\"admission_type_codes.json\")\n",
    "admission_source_codes = icp.read_json(path=json_path, file_name=\"admission_source_codes.json\")\n",
    "transaction_type_codes = icp.read_json(path=json_path, file_name=\"transaction_type_codes.json\")\n",
    "individual_relatn_codes = icp.read_json(path=json_path, file_name=\"individual_relatn_codes.json\")\n",
    "report_transmission_codes = icp.read_json(path=json_path, file_name=\"report_transmission_codes.json\")\n",
    "release_of_information_codes = icp.read_json(path=json_path, file_name=\"release_of_information_codes.json\")\n",
    "transaction_set_purpose_codes = icp.read_json(path=json_path, file_name=\"transaction_set_purpose_codes.json\")\n",
    "yes_no_condition_response_codes = icp.read_json(path=json_path, file_name=\"yes_or_no_condition_response_codes.json\")\n",
    "epsdt_referral_codes = icp.read_json(path=json_path, file_name=\"epsdt_referral_code_qualifiers.json\")\n",
    "provider_accept_assignment_codes = icp.read_json(path=json_path, file_name=\"provider_accept_assignment_codes.json\")"
   ]
  },
  {
   "cell_type": "code",
   "execution_count": null,
   "metadata": {},
   "outputs": [],
   "source": [
    "inst_claims_data = icp.convert_codes(inst_claims_data, \"subscriber_gender\", gender_codes)\n",
    "inst_claims_data = icp.convert_codes(inst_claims_data, \"subscriber_entity_type\", entity_type_codes)\n",
    "inst_claims_data = icp.convert_codes(inst_claims_data, \"patient_gender\", gender_codes)\n",
    "inst_claims_data = icp.convert_codes(inst_claims_data, \"payer_resp_seq_num\", payer_resp_codes)\n",
    "inst_claims_data = icp.convert_codes(inst_claims_data, \"delay_reason_code\", delay_reason_codes)\n",
    "inst_claims_data = icp.convert_codes(inst_claims_data, \"ind_reltn_code\", individual_relatn_codes)\n",
    "inst_claims_data = icp.convert_codes(inst_claims_data, \"transaction_type_code\", transaction_type_codes)\n",
    "inst_claims_data = icp.convert_codes(inst_claims_data, \"ind_reltn_code2\", individual_relatn_codes)\n",
    "inst_claims_data = icp.convert_codes(inst_claims_data, \"claim_filing_ind_code\", claim_filing_codes)\n",
    "inst_claims_data = icp.convert_codes(inst_claims_data, \"claim_filing_ind_code2\", claim_filing_codes)\n",
    "inst_claims_data = icp.convert_codes(inst_claims_data, \"facility_code_value\", facility_code_values)\n",
    "inst_claims_data = icp.convert_codes(inst_claims_data, \"patient_status_code\", patient_status_codes)\n",
    "inst_claims_data = icp.convert_codes(inst_claims_data, \"transaction_set_purpose_code\", transaction_set_purpose_codes)\n",
    "inst_claims_data = icp.convert_codes(inst_claims_data, \"release_of_information_code\", release_of_information_codes)\n",
    "inst_claims_data = icp.newborn_codes(inst_claims_data, newborn_codes, admission_type_codes, admission_source_codes)\n",
    "inst_claims_data = icp.convert_codes(inst_claims_data, \"provider_accept_assignment_code\", provider_accept_assignment_codes)"
   ]
  },
  {
   "cell_type": "code",
   "execution_count": null,
   "metadata": {},
   "outputs": [],
   "source": [
    "# Adding all convert_codes columns to categorical columns list\n",
    "columns_list = [\"payer_name\",\n",
    "                \"subscriber_gender\",\n",
    "                \"subscriber_entity_type\",\n",
    "                \"patient_gender\",\n",
    "                \"payer_resp_seq_num\",\n",
    "                \"delay_reason_code\",\n",
    "                \"ind_reltn_code\",\n",
    "                \"transaction_type_code\",\n",
    "                \"ind_reltn_code2\",\n",
    "                \"facility_code_value\",\n",
    "                \"patient_status_code\",\n",
    "                \"transaction_set_purpose_code\",\n",
    "                \"release_of_information_code\",\n",
    "                \"provider_accept_assignment_code\"]\n",
    "\n",
    "icp.append_to_categorical_cols(columns_list)"
   ]
  },
  {
   "cell_type": "code",
   "execution_count": null,
   "metadata": {},
   "outputs": [],
   "source": [
    "inst_claims_data = icp.fill_missing_values(inst_claims_data, \"facility_name\", \"billing_provider_name\")\n",
    "inst_claims_data = icp.fill_missing_values(inst_claims_data, \"facility_city\", \"billing_provider_city\")\n",
    "inst_claims_data = icp.fill_missing_values(inst_claims_data, \"facility_state\", \"billing_provider_state\")"
   ]
  },
  {
   "cell_type": "code",
   "execution_count": null,
   "metadata": {},
   "outputs": [],
   "source": [
    "# Adding all fill_missing_values columns to categorical columns list\n",
    "columns_list = [\"facility_name\",\n",
    "                \"facility_city\",\n",
    "                \"facility_state\",\n",
    "                \"billing_provider_name\",\n",
    "                \"billing_provider_city\",\n",
    "                \"billing_provider_state\"]\n",
    "\n",
    "icp.append_to_categorical_cols(columns_list)"
   ]
  },
  {
   "cell_type": "code",
   "execution_count": null,
   "metadata": {},
   "outputs": [],
   "source": [
    "#We noticed some spelling mistakes in the facilityName column, and correcting them using under this method\n",
    "correction_dictionary = {\"WRAY COMMUNITY DSITRICT HOSPITAL\": \"WRAY COMMUNITY DISTRICT HOSPITAL\",\n",
    "                                \"WRAYCLINIC\": \"WRAY CLINIC\"}\n",
    "\n",
    "\n",
    "inst_claims_data = icp.data_corrections(inst_claims_data, \"facility_name\", correction_dictionary)"
   ]
  },
  {
   "cell_type": "code",
   "execution_count": null,
   "metadata": {},
   "outputs": [],
   "source": [
    "inst_claims_data = icp.compare_columns(inst_claims_data, \"subscriber_state\", \"payer_state\", \"are_subscriber_payer_in_same_state\")\n",
    "inst_claims_data = icp.compare_columns(inst_claims_data, \"subscriber_city\", \"payer_city\", \"are_subscriber_payer_in_same_city\")\n",
    "inst_claims_data = icp.compare_columns(inst_claims_data, \"facility_state\", \"payer_state\", \"are_facility_payer_in_same_state\")\n",
    "inst_claims_data = icp.compare_columns(inst_claims_data, \"facility_city\", \"payer_city\", \"are_facility_payer_in_same_city\")\n",
    "inst_claims_data = icp.compare_columns(inst_claims_data, \"billing_provider_state\", \"payer_state\", \"are_billing_provider_payer_in_same_state\")\n",
    "inst_claims_data = icp.compare_columns(inst_claims_data, \"billing_provider_city\", \"payer_city\", \"are_billing_provider_payer_in_same_city\")"
   ]
  },
  {
   "cell_type": "code",
   "execution_count": null,
   "metadata": {},
   "outputs": [],
   "source": [
    "# Adding all compare columns to categorical columns list\n",
    "columns_list = [\"subscriber_state\",\n",
    "                \"subscriber_city\",\n",
    "                \"payer_state\",\n",
    "                \"payer_city\",\n",
    "                \"are_subscriber_payer_in_same_state\",\n",
    "                \"are_subscriber_payer_in_same_city\",\n",
    "                \"are_facility_payer_in_same_state\",\n",
    "                \"are_facility_payer_in_same_city\",\n",
    "                \"are_billing_provider_payer_in_same_state\",\n",
    "                \"are_billing_provider_payer_in_same_city\"]\n",
    "\n",
    "icp.append_to_categorical_cols(columns_list)"
   ]
  },
  {
   "cell_type": "code",
   "execution_count": null,
   "metadata": {},
   "outputs": [],
   "source": [
    "#Merging Patient and Subscriber\n",
    "inst_claims_data = icp.merge_two_cols(inst_claims_data, \"subscriber_gender\", \"patient_gender\", \"subscriber_pat_gender\")\n",
    "inst_claims_data = icp.merge_two_cols(inst_claims_data, \"subscriber_city\", \"patient_city\", \"subscriber_pat_city\")\n",
    "inst_claims_data = icp.merge_two_cols(inst_claims_data, \"subscriber_state\", \"patient_state\", \"subscriber_pat_state\")\n",
    "inst_claims_data = icp.merge_two_cols(inst_claims_data, \"ind_reltn_code\", \"ind_reltn_code2\", \"subscriber_pat_reltn\")\n",
    "inst_claims_data = icp.compute_patient_age(inst_claims_data, \"subscriber_dob\", \"patient_dob\", \"claim_creation_date\")"
   ]
  },
  {
   "cell_type": "code",
   "execution_count": null,
   "metadata": {},
   "outputs": [],
   "source": [
    "# Adding all merge_two columns to categorical columns list\n",
    "columns_list = [\"subscriber_gender\", \"patient_gender\", \"subscriber_pat_gender\",\n",
    "                \"ind_reltn_code\", \"ind_reltn_code2\", \"subscriber_pat_reltn\"]\n",
    "\n",
    "icp.append_to_categorical_cols(columns_list)\n",
    "\n",
    "# Adding patient_age to numeric_columns list\n",
    "icp.append_to_numeric_cols([\"patient_age\"])"
   ]
  },
  {
   "cell_type": "code",
   "execution_count": null,
   "metadata": {},
   "outputs": [],
   "source": [
    "inst_claims_data = icp.create_flag_column(inst_claims_data, \"prior_authorization\", \"claim_has_priorior_authorization\")\n",
    "inst_claims_data = icp.create_flag_column(inst_claims_data, \"subscriber_group_name\", \"claim_has_subscriber_group_name\")\n",
    "inst_claims_data = icp.create_flag_column(inst_claims_data, \"demo_project_id\", \"claim_has_demo_project_id\")\n",
    "inst_claims_data = icp.create_flag_column(inst_claims_data, \"discharge_hour\", \"claim_has_discharge_hour\")\n",
    "inst_claims_data = icp.create_flag_column(inst_claims_data, \"admission_date_hour\", \"claim_has_admission_dthr\")\n",
    "inst_claims_data = icp.create_flag_column(inst_claims_data, \"statement_dates\", \"claim_has_statement_dates\")\n",
    "inst_claims_data = icp.create_flag_column(inst_claims_data, \"referral_number\", \"claim_has_referral_number\")\n",
    "inst_claims_data = icp.create_flag_column(inst_claims_data, \"service_authorization_exception_code\", \"claim_has_service_auth_exception\")\n",
    "inst_claims_data = icp.create_flag_column(inst_claims_data, \"auto_accident_state\", \"claim_has_auto_accident_state\")\n",
    "inst_claims_data = icp.create_flag_column(inst_claims_data, \"attending_provider_id\", \"claim_has_attending_provider_id\")\n",
    "inst_claims_data = icp.create_flag_column(inst_claims_data, \"medical_record_number\", \"claim_has_medical_record_number\")\n",
    "inst_claims_data = icp.create_flag_column(inst_claims_data, \"rendering_provider_id\", \"claim_has_rendering_provider_id\")\n",
    "inst_claims_data = icp.create_flag_column(inst_claims_data, \"referring_provider_id\", \"claim_has_referring_provider_id\")\n",
    "inst_claims_data = icp.create_flag_column(inst_claims_data, \"repricer_received_date\", \"claim_has_repricer_received_date\")\n",
    "inst_claims_data = icp.create_flag_column(inst_claims_data, \"operating_physician_id\", \"claim_has_operating_physician_id\")\n",
    "inst_claims_data = icp.create_flag_column(inst_claims_data, \"subscriber_group_or_policy_number\", \"claim_has_subscriber_group_or_policy_number\")\n",
    "inst_claims_data = icp.create_flag_column(inst_claims_data, \"peer_review_org_approval\", \"claim_has_peer_review_org_approval\")\n",
    "inst_claims_data = icp.create_flag_column(inst_claims_data, \"payer_claim_control_number\", \"claim_has_payer_claim_control_number\")\n",
    "inst_claims_data = icp.create_flag_column(inst_claims_data, \"other_operating_physician_id\", \"claim_has_other_operating_physician_id\")"
   ]
  },
  {
   "cell_type": "code",
   "execution_count": null,
   "metadata": {},
   "outputs": [],
   "source": [
    "# Adding all merge_two columns to categorical columns list\n",
    "columns_list = [\"prior_authorization\",\n",
    "                \"claim_has_priorior_authorization\",\n",
    "                \"subscriber_group_name\",\n",
    "                \"claim_has_subscriber_group_name\",                \n",
    "                \"claim_has_demo_project_id\",\n",
    "                \"claim_has_discharge_hour\", \n",
    "                \"claim_has_admission_dthr\",\n",
    "                \"claim_has_statement_dates\",\n",
    "                \"claim_has_referral_number\",\n",
    "                \"service_authorization_exception_code\",\n",
    "                \"claim_has_service_auth_exception\",\n",
    "                \"claim_has_auto_accident_state\",\n",
    "                \"attending_provider_id\",\n",
    "                \"claim_has_attending_provider_id\",\n",
    "                \"claim_has_medical_record_number\",\n",
    "                \"rendering_provider_id\",\n",
    "                \"claim_has_rendering_provider_id\",\n",
    "                \"referring_provider_id\",\n",
    "                \"claim_has_referring_provider_id\",\n",
    "                \"claim_has_repricer_received_date\",\n",
    "                \"operating_physician_id\",\n",
    "                \"claim_has_operating_physician_id\",\n",
    "                \"subscriber_group_or_policy_number\",\n",
    "                \"claim_has_subscriber_group_or_policy_number\",\n",
    "                \"peer_review_org_approval\",\n",
    "                \"claim_has_peer_review_org_approval\",\n",
    "                \"payer_claim_control_number\",\n",
    "                \"claim_has_payer_claim_control_number\",\n",
    "                \"other_operating_physician_id\",\n",
    "                \"claim_has_other_operating_physician_id\",\n",
    "                \"subscriber_pat_reltn\"]\n",
    "\n",
    "icp.append_to_categorical_cols(columns_list)"
   ]
  },
  {
   "cell_type": "code",
   "execution_count": null,
   "metadata": {},
   "outputs": [],
   "source": [
    "inst_claims_data = icp.get_time_variables(inst_claims_data, \"statement_dates\")\n",
    "\n",
    "# Appending time_variables to numeric_columns list\n",
    "icp.append_to_numeric_cols([\"LOS\", \"days_taken_for_claim_filing\"])"
   ]
  },
  {
   "cell_type": "code",
   "execution_count": null,
   "metadata": {},
   "outputs": [],
   "source": [
    "inst_claims_data = icp.get_date_features(inst_claims_data)"
   ]
  },
  {
   "cell_type": "code",
   "execution_count": null,
   "metadata": {},
   "outputs": [],
   "source": [
    "inst_claims_data[\"response_time\"] = (pd.to_datetime(inst_claims_data[\"response_date\"])-pd.to_datetime(inst_claims_data[\"claim_creation_date\"])).dt.days"
   ]
  },
  {
   "cell_type": "code",
   "execution_count": null,
   "metadata": {},
   "outputs": [],
   "source": [
    "years = icp.get_min_max_years(inst_claims_data)\n",
    "holidays_list = icp.get_holidays_list(years)\n",
    "inst_claims_data[\"count_of_holidays\"] = inst_claims_data[\"claim_creation_date\"].apply(lambda x: icp.create_holiday_count_variable(years, holidays_list, x))\n",
    "\n",
    "# Appending count_of_holidays to numeric_columns list\n",
    "icp.append_to_numeric_cols([\"count_of_holidays\"])"
   ]
  },
  {
   "cell_type": "code",
   "execution_count": null,
   "metadata": {},
   "outputs": [],
   "source": [
    "reassign_dict = {\"Other Federal Program\": \"Commercial Insurance Co.\", \"Medicare Part B\": \"Medicare Part A\"}\n",
    "\n",
    "inst_claims_data[\"claim_filing_ind_code3\"] = inst_claims_data[\"claim_filing_ind_code2\"].copy()\n",
    "for key, value in reassign_dict.items():\n",
    "    mask = inst_claims_data[\"claim_filing_ind_code2\"]==key\n",
    "    inst_claims_data.loc[mask, \"claim_filing_ind_code3\"] = value"
   ]
  },
  {
   "cell_type": "code",
   "execution_count": null,
   "metadata": {},
   "outputs": [],
   "source": [
    "# adding other important columns from claims data to numeric and categorical columns list\n",
    "categorical_columns = [\"billing_provider_taxonomy_code\",\n",
    "                       \"claim_freq_type_code\",\n",
    "                       \"yes_no_condition_resp_code\",\n",
    "                       \"admission_type_code\",\n",
    "                       \"admission_source_code\"]\n",
    "\n",
    "numeric_columns = [\"total_claim_charge_amount\",\n",
    "                   \"patient_estimated_amount\"]\n",
    "\n",
    "icp.append_to_categorical_cols(categorical_columns)\n",
    "icp.append_to_numeric_cols(numeric_columns)"
   ]
  },
  {
   "cell_type": "code",
   "execution_count": null,
   "metadata": {},
   "outputs": [],
   "source": [
    "inst_claims_data[\"claim_filing_ind_code3\"].value_counts()"
   ]
  },
  {
   "cell_type": "code",
   "execution_count": null,
   "metadata": {},
   "outputs": [],
   "source": [
    "from datetime import date\n",
    "inst_claims_data.to_csv(\"/home/ec2-user/SageMaker/Users/SP056963/work_queue_prioritization_v2/01_data_preprocessing/preprocessed_datasets/ic_preprocessed_dataset_\"+str(date.today())+\".csv\", index=False)"
   ]
  },
  {
   "cell_type": "code",
   "execution_count": null,
   "metadata": {},
   "outputs": [],
   "source": [
    "num_file_path = \"/home/ec2-user/SageMaker/Users/SP056963/work_queue_prioritization_v2/02_feat_sel_and_imp/institutional_claims/json_files/ic_num_cols.json\"\n",
    "cat_file_path = \"/home/ec2-user/SageMaker/Users/SP056963/work_queue_prioritization_v2/02_feat_sel_and_imp/institutional_claims/json_files/ic_cat_cols.json\"\n",
    "\n",
    "icp.save_cols_list(num_file_path, cat_file_path)"
   ]
  }
 ],
 "metadata": {
  "kernelspec": {
   "display_name": "wqp_kernel",
   "language": "python",
   "name": "wqp_env"
  },
  "language_info": {
   "codemirror_mode": {
    "name": "ipython",
    "version": 3
   },
   "file_extension": ".py",
   "mimetype": "text/x-python",
   "name": "python",
   "nbconvert_exporter": "python",
   "pygments_lexer": "ipython3",
   "version": "3.6.13"
  }
 },
 "nbformat": 4,
 "nbformat_minor": 4
}
