{
 "cells": [
  {
   "cell_type": "code",
   "execution_count": null,
   "metadata": {},
   "outputs": [],
   "source": [
    "import sys\n",
    "import warnings\n",
    "import numpy as np\n",
    "import pandas as pd\n",
    "from datetime import date\n",
    "\n",
    "warnings.filterwarnings(\"ignore\")"
   ]
  },
  {
   "cell_type": "code",
   "execution_count": null,
   "metadata": {},
   "outputs": [],
   "source": [
    "sys.path[1:1] = [\"/home/ec2-user/SageMaker/Users/SP056963//work_queue_prioritization_v2/01_data_preprocessing/preprocessing_scripts/\"]"
   ]
  },
  {
   "cell_type": "code",
   "execution_count": null,
   "metadata": {},
   "outputs": [],
   "source": [
    "from prof_claims_preprocessing_methods import ProfClaimsPreprocessing"
   ]
  },
  {
   "cell_type": "code",
   "execution_count": null,
   "metadata": {},
   "outputs": [],
   "source": [
    "pcp = ProfClaimsPreprocessing()"
   ]
  },
  {
   "cell_type": "code",
   "execution_count": null,
   "metadata": {},
   "outputs": [],
   "source": [
    "#defining required variables\n",
    "json_path = \"/home/ec2-user/SageMaker/Users/SP056963/work_queue_prioritization_v2/01_data_preprocessing/preprocessing_artifacts/professional_artifacts/\""
   ]
  },
  {
   "cell_type": "code",
   "execution_count": null,
   "metadata": {},
   "outputs": [],
   "source": [
    "# columns list to identify a claim uniquely\n",
    "ref_cols = pcp.read_json(path=json_path, file_name=\"ref_cols.json\")\n",
    "ref_cols = ref_cols[\"ref_cols\"]\n",
    "\n",
    "# additional cols used\n",
    "cols_for_sa = pcp.read_json(path=json_path, file_name=\"cols_for_sa.json\")\n",
    "cols_for_sa = cols_for_sa[\"cols_for_sa\"]\n",
    "\n",
    "# rename claims cols\n",
    "rename_cols = pcp.read_json(path=json_path, file_name=\"rename_cols.json\")"
   ]
  },
  {
   "cell_type": "code",
   "execution_count": null,
   "metadata": {},
   "outputs": [],
   "source": [
    "#PreprocessingConfigForIC.json has paths to data files, and external files such as Dx codes to CCSR etc\n",
    "config = pcp.read_json(path=json_path, file_name=\"preprocessing_config.json\")"
   ]
  },
  {
   "cell_type": "code",
   "execution_count": null,
   "metadata": {},
   "outputs": [],
   "source": [
    "#populating the data dataframes, and other required dataframes\n",
    "claims_data = pd.read_pickle(\"s3://cerner-mlecosystem-processing-us-west-2-dsprod/manual-uploads/hdx/Extracts Backup/Pickle files/professional_mapped_data_version2.pkl\")\n",
    "    \n",
    "#CCSR codes are used for ICD-10-CM codes\n",
    "dx_ccsr= pd.read_csv(config[\"ccsr_path\"])\n",
    "    \n",
    "ndc_codes = pd.read_csv(config[\"ndc_codes_path\"], dtype=str)\n",
    "    \n",
    "cond_codes = pd.read_csv(config[\"cond_codes_path\"], dtype=str)\n",
    "    \n",
    "hcpcs_codes = pd.read_csv(config[\"hcpcs_codes_path\"], dtype=str)\n",
    "hcpcs_codes = hcpcs_codes.drop(columns=[\"Category\", \"Types\", \"Code\"])"
   ]
  },
  {
   "cell_type": "code",
   "execution_count": null,
   "metadata": {},
   "outputs": [],
   "source": [
    "hcpcs_codes = pcp.add_prefix_strings(hcpcs_codes, \"HCPCSCode_\", [\"Section\"])"
   ]
  },
  {
   "cell_type": "code",
   "execution_count": null,
   "metadata": {},
   "outputs": [],
   "source": [
    "ndc_codes = pcp.add_prefix_strings(ndc_codes, \"NDCCode_\", [\"Concept_Name\"])"
   ]
  },
  {
   "cell_type": "code",
   "execution_count": null,
   "metadata": {},
   "outputs": [],
   "source": [
    "# claims_data shape before creating count_of_lineitems feature\n",
    "rows_count1, cols_count1 = claims_data.shape[0], claims_data.shape[1]\n",
    "\n",
    "# adding an extra feature count_of_lineitems to claims_data\n",
    "claims_data = pcp.get_count_of_lineitems(claims_data, ref_cols)\n",
    "\n",
    "# claims_data shape after creating count_of_lineitems feature\n",
    "rows_count2, cols_count2 = claims_data.shape[0], claims_data.shape[1]\n",
    "\n",
    "# the number of observations shouldn't change, asserting the same\n",
    "assert (rows_count1==rows_count2), \"Error! The number of observations are not constant as expected.\"\n",
    "\n",
    "# asserting whether the feature was created or not\n",
    "assert (cols_count1+1==cols_count2), \"Error! count_of_lineitems feature was not created as expected.\""
   ]
  },
  {
   "cell_type": "markdown",
   "metadata": {},
   "source": [
    "### Validating count_of_lineitems feature:"
   ]
  },
  {
   "cell_type": "markdown",
   "metadata": {},
   "source": [
    "#### Case-1: count_of_lineitems shouldn't be zero."
   ]
  },
  {
   "cell_type": "code",
   "execution_count": null,
   "metadata": {},
   "outputs": [],
   "source": [
    "zero_mask = claims_data[\"count_of_lineitems\"]==0\n",
    "assert (sum(zero_mask)==0), \"Error! There are claims with zero count_of_lineitems in dataset\""
   ]
  },
  {
   "cell_type": "markdown",
   "metadata": {},
   "source": [
    "#### Case-2: Randomly select a claim file and check if the number of line items is equal to the count_of_lineitems value or not."
   ]
  },
  {
   "cell_type": "code",
   "execution_count": null,
   "metadata": {},
   "outputs": [],
   "source": [
    "random_sample = claims_data[ref_cols].drop_duplicates(keep=\"first\").sample(1)\n",
    "print(f\"Claim Submitter Id is:{random_sample[ref_cols[3]].unique()[0]}\")\n",
    "ref_ident, date, time, claim_submitter_id = random_sample[ref_cols[0]].values, random_sample[ref_cols[1]].values, random_sample[ref_cols[2]].values, random_sample[ref_cols[3]].values\n",
    "\n",
    "mask1 = claims_data[ref_cols[0]]==ref_ident[0]\n",
    "mask2 = claims_data[ref_cols[1]]==date[0]\n",
    "mask3 = claims_data[ref_cols[2]]==time[0]\n",
    "mask4 = claims_data[ref_cols[3]]==claim_submitter_id[0]\n",
    "\n",
    "random_sample_df = claims_data[(mask1) & (mask2) & (mask3) & (mask4)]\n",
    "assert(random_sample_df.shape[0]==list(random_sample_df[\"count_of_lineitems\"].unique())[0]), \"Error! The number of line items and count_of_lineitems are not matching.\""
   ]
  },
  {
   "cell_type": "markdown",
   "metadata": {},
   "source": [
    "### Creating the below aggregate features:\n",
    "- sum:\n",
    "    - mins_sum_quantity\n",
    "    - units_sum_quantity\n",
    "- mean:\n",
    "    - mins_mean_quantity\n",
    "    - units_mean_quantity\n",
    "- median:\n",
    "    - mins_median_quantity\n",
    "    - units_median_quantity"
   ]
  },
  {
   "cell_type": "code",
   "execution_count": null,
   "metadata": {},
   "outputs": [],
   "source": [
    "# claims_data shape before creating aggregate features\n",
    "rows_count1, cols_count1 = claims_data.shape[0], claims_data.shape[1]\n",
    "\n",
    "# adding six additional features to claims_data\n",
    "claims_data = pcp.get_agg_features(claims_data, ref_cols, \"MJ\")\n",
    "\n",
    "# claims_data shape after creating aggregate features\n",
    "rows_count2, cols_count2 = claims_data.shape[0], claims_data.shape[1]\n",
    "\n",
    "# the number of observations shouldn't change, asserting the same\n",
    "assert (rows_count1==rows_count2), \"Error! The number of observations are not constant as expected.\"\n",
    "\n",
    "# asserting whether the feature was created or not\n",
    "assert (cols_count1+6==cols_count2), \"Error! Aggregate features were not created as expected.\""
   ]
  },
  {
   "cell_type": "code",
   "execution_count": null,
   "metadata": {},
   "outputs": [],
   "source": [
    "pcp.numeric_cols"
   ]
  },
  {
   "cell_type": "markdown",
   "metadata": {},
   "source": [
    "### Creating \"count_of_other_subscribers\" feature"
   ]
  },
  {
   "cell_type": "code",
   "execution_count": null,
   "metadata": {},
   "outputs": [],
   "source": [
    "# claims_data shape before creating count_of_other_subscribers feature\n",
    "rows_count1, cols_count1 = claims_data.shape[0], claims_data.shape[1]\n",
    "\n",
    "# creating count_of_other_subscribers feature\n",
    "claims_data = pcp.get_count_of_other_subscribers(claims_data)\n",
    "\n",
    "# claims_data shape after creating count_of_other_subscribers feature\n",
    "rows_count2, cols_count2 = claims_data.shape[0], claims_data.shape[1]\n",
    "\n",
    "# the number of observations shouldn't change, asserting the same\n",
    "assert (rows_count1==rows_count2), \"Error! The number of observations are not constant as expected.\"\n",
    "\n",
    "# asserting whether the feature was created or not\n",
    "assert (cols_count1+1==cols_count2), \"Error! count_of_other_subscribers feature was not created as expected.\""
   ]
  },
  {
   "cell_type": "markdown",
   "metadata": {},
   "source": [
    "### Reducing all categories with value_counts() less than 1% of the total under \"hcpc codes\" into \"other_hcpcscodes\""
   ]
  },
  {
   "cell_type": "code",
   "execution_count": null,
   "metadata": {},
   "outputs": [],
   "source": [
    "# claims_data shape before creating count_of_lineitems feature\n",
    "rows_count1, cols_count1 = claims_data.shape[0], claims_data.shape[1]\n",
    "\n",
    "column_name = \"Loop2400_SV1-Segment-ProfessionalService_SV101-COMPOSITEMEDICALPROCEDUREIDENTIFIER-Composite-C003_02-Product/ServiceID-234\"\n",
    "claims_data = pcp.reduce_unique_values(claims_data, column_name, \"reduced_serviceline_hcpcscode\", 1, \"other_hcpcscodes\")\n",
    "\n",
    "# claims_data shape before creating count_of_lineitems feature\n",
    "rows_count2, cols_count2 = claims_data.shape[0], claims_data.shape[1]\n",
    "\n",
    "# the number of observations shouldn't change, asserting the same\n",
    "assert (rows_count1==rows_count2), \"Error! The number of observations are not constant as expected.\"\n",
    "\n",
    "# asserting whether the feature was created or not\n",
    "assert (cols_count1+1==cols_count2), \"Error! count_of_lineitems feature was not created as expected.\""
   ]
  },
  {
   "cell_type": "markdown",
   "metadata": {},
   "source": [
    "### Converting \"hcpcs codes\" in \"reduced_serviceline_hcpcscode\" column into their corresponding \"categories\""
   ]
  },
  {
   "cell_type": "code",
   "execution_count": null,
   "metadata": {},
   "outputs": [],
   "source": [
    "claims_data = claims_data.merge(hcpcs_codes, left_on=\"reduced_serviceline_hcpcscode\", right_on=\"CPT Codes\", how=\"left\")\n",
    "mask = claims_data[\"reduced_serviceline_hcpcscode\"]==\"other_hcpcscodes\"\n",
    "claims_data.loc[mask, \"Section\"] = \"other_hcpcscodes\""
   ]
  },
  {
   "cell_type": "code",
   "execution_count": null,
   "metadata": {},
   "outputs": [],
   "source": [
    "column_name = \"Section\"\n",
    "claims_data = pcp.serviceline_to_claimlevel(claims_data, ref_cols, column_name)\n",
    "\n",
    "if \"nan_value\" in claims_data.columns:\n",
    "    claims_data.drop(columns=[\"nan_value\"], inplace=True)"
   ]
  },
  {
   "cell_type": "markdown",
   "metadata": {},
   "source": [
    "### Reducing all categories with value_counts() less than 1% of the total under \"ndc codes\" into \"other_ndccodes\""
   ]
  },
  {
   "cell_type": "code",
   "execution_count": null,
   "metadata": {},
   "outputs": [],
   "source": [
    "# claims_data shape before creating count_of_lineitems feature\n",
    "rows_count1, cols_count1 = claims_data.shape[0], claims_data.shape[1]\n",
    "\n",
    "column_name = \"Loop2410_LIN-Segment-DrugIdentification_LIN03-Product/ServiceID-234\"\n",
    "claims_data = pcp.reduce_unique_values(claims_data, column_name, \"reduced_serviceline_ndccode\", 1, \"other_ndccodes\")\n",
    "\n",
    "# claims_data shape before creating count_of_lineitems feature\n",
    "rows_count2, cols_count2 = claims_data.shape[0], claims_data.shape[1]\n",
    "\n",
    "# the number of observations shouldn't change, asserting the same\n",
    "assert (rows_count1==rows_count2), \"Error! The number of observations are not constant as expected.\"\n",
    "\n",
    "# asserting whether the feature was created or not\n",
    "assert (cols_count1+1==cols_count2), \"Error! count_of_lineitems feature was not created as expected.\""
   ]
  },
  {
   "cell_type": "markdown",
   "metadata": {},
   "source": [
    "### Converting \"ndc codes\" in \"reduced_serviceline_ndccode\" column into their corresponding \"concept names\""
   ]
  },
  {
   "cell_type": "code",
   "execution_count": null,
   "metadata": {},
   "outputs": [],
   "source": [
    "claims_data = claims_data.merge(ndc_codes, left_on=\"reduced_serviceline_ndccode\", right_on=\"NDC_Code\", how=\"left\")\n",
    "mask = claims_data[\"reduced_serviceline_ndccode\"]==\"other_ndccodes\"\n",
    "claims_data.loc[mask, \"Concept_Name\"] = \"other_ndccodes\""
   ]
  },
  {
   "cell_type": "code",
   "execution_count": null,
   "metadata": {},
   "outputs": [],
   "source": [
    "column_name = \"Concept_Name\"\n",
    "claims_data = pcp.serviceline_to_claimlevel(claims_data, ref_cols, column_name)\n",
    "\n",
    "if \"nan_value\" in claims_data.columns:\n",
    "    claims_data.drop(columns=[\"nan_value\"], inplace=True)"
   ]
  },
  {
   "cell_type": "code",
   "execution_count": null,
   "metadata": {},
   "outputs": [],
   "source": [
    "# Creating additional_cols list and adding the columns list to categorical columns list\n",
    "additional_cols = [col for col in claims_data.columns if \"HCPCSCode_\" in col] \\\n",
    "                + [col for col in claims_data.columns if \"NDCCode_\" in col]\n",
    "\n",
    "additional_cols += [\"other_hcpcscodes\", \"other_ndccodes\"]\n",
    "\n",
    "pcp.append_to_categorical_cols(additional_cols)"
   ]
  },
  {
   "cell_type": "code",
   "execution_count": null,
   "metadata": {},
   "outputs": [],
   "source": [
    "# Creating days_to_claim_filing feature\n",
    "claims_data = pcp.get_days_taken_for_claim_filing(claims_data, ref_cols)"
   ]
  },
  {
   "cell_type": "code",
   "execution_count": null,
   "metadata": {},
   "outputs": [],
   "source": [
    "# Creating LOS feature\n",
    "claims_data = pcp.get_LOS(claims_data, ref_cols)"
   ]
  },
  {
   "cell_type": "markdown",
   "metadata": {},
   "source": [
    "### Retrieving Claim Level Data alone"
   ]
  },
  {
   "cell_type": "code",
   "execution_count": null,
   "metadata": {},
   "outputs": [],
   "source": [
    "# Retrieving Claim Level Data from Line Level Data\n",
    "prof_claims_data = pcp.get_claim_level_data(claims_data, ref_cols+cols_for_sa+additional_cols)\n",
    "\n",
    "# Dropping duplicates- avoiding any replicate data that leaked in as part of bugs in claims and remits mapping logic.\n",
    "prof_claims_data = prof_claims_data.drop_duplicates(ref_cols, keep=False)"
   ]
  },
  {
   "cell_type": "markdown",
   "metadata": {},
   "source": [
    "### Renaming columns"
   ]
  },
  {
   "cell_type": "code",
   "execution_count": null,
   "metadata": {},
   "outputs": [],
   "source": [
    "# Renaming claim level columns\n",
    "prof_claims_data = prof_claims_data.rename(columns=rename_cols)"
   ]
  },
  {
   "cell_type": "markdown",
   "metadata": {},
   "source": [
    "#### Correcting payer_name and claim_filing_ind_code combinations\n",
    "#### JIRA: https://jira2.cerner.com/browse/INTELLIGEN-2314"
   ]
  },
  {
   "cell_type": "code",
   "execution_count": null,
   "metadata": {},
   "outputs": [],
   "source": [
    "# Correcting payer_name and claim_filing_ind_code combinations..\n",
    "prof_claims_data = pcp.correct_payer_claimfiling_combinations(prof_claims_data)"
   ]
  },
  {
   "cell_type": "code",
   "execution_count": null,
   "metadata": {},
   "outputs": [],
   "source": [
    "# Asserting whether payer_name and claim_filing_ind_code combinations are correcting or not.\n",
    "columns = [\"payer_name\", \"claim_filing_ind_code2\"]\n",
    "temp_df = prof_claims_data[columns].groupby(columns).size().reset_index(name=\"count\")\n",
    "temp_df = temp_df.pivot_table(index=\"payer_name\", columns=\"claim_filing_ind_code2\")\n",
    "temp_df.columns = [j for i, j in temp_df.columns]\n",
    "correction_mask = temp_df.apply(lambda x: pcp.has_multiple_claimfilingindicators(x), axis=1)\n",
    "\n",
    "assert (sum(correction_mask)==0), \"Error! payer_name and claim_filing_ind_code combinations are not corrected as expected.\""
   ]
  },
  {
   "cell_type": "code",
   "execution_count": null,
   "metadata": {},
   "outputs": [],
   "source": [
    "# Converting Dx codes and other code values into Hierarchical Categories.\n",
    "prof_claims_data = pcp.code_mapping(prof_claims_data, dx_ccsr, \"HealthCareDiagnosisCode\", \"ICD_10_CM_CODE\", \"ccsr_category_1_code_\")\n",
    "cols_list = list(prof_claims_data.filter(regex=\"ccsr_category_1_code_\", axis=1).columns)\n",
    "pcp.append_to_categorical_cols(cols_list)\n",
    "\n",
    "prof_claims_data = pcp.code_mapping(prof_claims_data, hcpcs_codes, \"AnesthesiaRelatedProcedure\", \"CPT Codes\", \"Section_\")\n",
    "cols_list = list(prof_claims_data.filter(regex=\"Section_\", axis=1).columns)\n",
    "pcp.append_to_categorical_cols(cols_list)\n",
    "\n",
    "prof_claims_data = pcp.code_mapping(prof_claims_data, cond_codes, \"ConditionInformation_HI\", \"code_value\", \"description_\")\n",
    "cols_list = list(prof_claims_data.filter(regex=\"description_\", axis=1).columns)\n",
    "pcp.append_to_categorical_cols(cols_list)"
   ]
  },
  {
   "cell_type": "code",
   "execution_count": null,
   "metadata": {},
   "outputs": [],
   "source": [
    "# Loading in json files for converting code values into descriptions.\n",
    "gender_codes = pcp.read_json(path=json_path, file_name=\"gender_codes.json\")\n",
    "payer_resp_codes = pcp.read_json(path=json_path, file_name=\"payer_resp_codes.json\")\n",
    "delay_reason_codes = pcp.read_json(path=json_path, file_name=\"delay_reason_codes.json\")\n",
    "claim_filing_codes = pcp.read_json(path=json_path, file_name=\"claim_filing_codes.json\")\n",
    "facility_code_values = pcp.read_json(path=json_path, file_name=\"facility_code_values.json\")\n",
    "transaction_type_codes = pcp.read_json(path=json_path, file_name=\"transaction_type_codes.json\")\n",
    "individual_relatn_codes = pcp.read_json(path=json_path, file_name=\"individual_relatn_codes.json\")\n",
    "transaction_set_purpose_codes = pcp.read_json(path=json_path, file_name=\"transaction_set_purpose_codes.json\")"
   ]
  },
  {
   "cell_type": "code",
   "execution_count": null,
   "metadata": {},
   "outputs": [],
   "source": [
    "# Converting codes into descriptions..\n",
    "prof_claims_data = pcp.convert_codes(prof_claims_data, \"subscriber_gender\", gender_codes)\n",
    "prof_claims_data = pcp.convert_codes(prof_claims_data, \"patient_gender\", gender_codes)\n",
    "prof_claims_data = pcp.convert_codes(prof_claims_data, \"payer_resp_seq_num\", payer_resp_codes)\n",
    "prof_claims_data = pcp.convert_codes(prof_claims_data, \"transaction_type_code\", transaction_type_codes)\n",
    "prof_claims_data = pcp.convert_codes(prof_claims_data, \"facility_code_value\", facility_code_values)\n",
    "prof_claims_data = pcp.convert_codes(prof_claims_data, \"delay_reason_code\", delay_reason_codes)\n",
    "prof_claims_data = pcp.convert_codes(prof_claims_data, \"ind_reltn_code\", individual_relatn_codes)\n",
    "prof_claims_data = pcp.convert_codes(prof_claims_data, \"ind_reltn_code2\", individual_relatn_codes)\n",
    "prof_claims_data = pcp.convert_codes(prof_claims_data, \"claim_filing_ind_code2\", claim_filing_codes)\n",
    "prof_claims_data = pcp.convert_codes(prof_claims_data, \"claim_filing_ind_code\", claim_filing_codes)\n",
    "prof_claims_data = pcp.convert_codes(prof_claims_data, \"transaction_set_purpose_code\", transaction_set_purpose_codes)"
   ]
  },
  {
   "cell_type": "code",
   "execution_count": null,
   "metadata": {},
   "outputs": [],
   "source": [
    "# Creating flag columns..\n",
    "prof_claims_data = pcp.create_flag_column(prof_claims_data, \"clia_number\", \"claim_has_clia_number\")\n",
    "pcp.append_to_categorical_cols([\"clia_number\", \"claim_has_clia_number\"])\n",
    "\n",
    "prof_claims_data = pcp.create_flag_column(prof_claims_data, \"referral_number\", \"claim_has_referral_number\")\n",
    "pcp.append_to_categorical_cols([\"referral_number\", \"claim_has_referral_number\"])\n",
    "\n",
    "prof_claims_data = pcp.create_flag_column(prof_claims_data, \"subscriber_group_name\", \"claim_has_subscriber_group_name\")\n",
    "pcp.append_to_categorical_cols([\"subscriber_group_name\", \"claim_has_subscriber_group_name\"])\n",
    "\n",
    "prof_claims_data = pcp.create_flag_column(prof_claims_data, \"subscriber_group_or_policy_number\", \"claim_has_subscriber_group_or_policy_number\")\n",
    "pcp.append_to_categorical_cols([\"subscriber_group_or_policy_number\", \"claim_has_subscriber_group_or_policy_number\"])\n",
    "\n",
    "prof_claims_data = pcp.create_flag_column(prof_claims_data, \"prior_authorization\", \"claim_has_prior_authorization\")\n",
    "pcp.append_to_categorical_cols([\"prior_authorization\", \"claim_has_prior_authorization\"])\n",
    "\n",
    "prof_claims_data = pcp.create_flag_column(prof_claims_data, \"payer_claim_control_number\", \"claim_has_payer_claim_control_number\")\n",
    "pcp.append_to_categorical_cols([\"payer_claim_control_number\", \"claim_has_payer_claim_control_number\"])\n",
    "\n",
    "prof_claims_data = pcp.create_flag_column(prof_claims_data, \"care_plan_oversight_num\", \"claim_has_care_plan_oversight_number\")\n",
    "pcp.append_to_categorical_cols([\"care_plan_oversight_num\", \"claim_has_care_plan_oversight_number\"])\n",
    "\n",
    "prof_claims_data = pcp.create_flag_column(prof_claims_data, \"service_authorization_exception_code\", \"claim_has_service_auth_exception\")\n",
    "pcp.append_to_categorical_cols([\"service_authorization_exception_code\", \"claim_has_service_auth_exception\"])\n",
    "\n",
    "prof_claims_data = pcp.create_flag_column(prof_claims_data, \"medicare_crossover_indicator\", \"claim_has_medicare_crossover_ind\")\n",
    "pcp.append_to_categorical_cols([\"medicare_crossover_indicator\", \"claim_has_medicare_crossover_ind\"])\n",
    "\n",
    "prof_claims_data = pcp.create_flag_column(prof_claims_data, \"mammography_certification_num\", \"claim_has_mammography_certification_number\")\n",
    "pcp.append_to_categorical_cols([\"mammography_certification_num\", \"claim_has_mammography_certification_number\"])\n",
    "\n",
    "prof_claims_data = pcp.create_flag_column(prof_claims_data, \"spinal_manipulation_service_info\", \"claim_has_spinal_manipulation_service_info\")\n",
    "pcp.append_to_categorical_cols([\"claim_has_spinal_manipulation_service_info\"])\n",
    "\n",
    "prof_claims_data = pcp.create_flag_column(prof_claims_data, \"additional_note\", \"claim_has_additional_note\")\n",
    "pcp.append_to_categorical_cols([\"claim_has_additional_note\"])\n",
    "\n",
    "prof_claims_data = pcp.create_flag_column(prof_claims_data, \"demo_project_id\", \"claim_has_demo_project_id\")\n",
    "pcp.append_to_categorical_cols([\"claim_has_demo_project_id\"])\n",
    "\n",
    "prof_claims_data = pcp.create_flag_column(prof_claims_data, \"patient_death_date\", \"claim_has_patient_death_date\")\n",
    "pcp.append_to_categorical_cols([\"claim_has_patient_death_date\"])\n",
    "\n",
    "prof_claims_data = pcp.create_flag_column(prof_claims_data, \"patient_pregnancy_indicator\", \"claim_has_patient_preg_ind\")\n",
    "pcp.append_to_categorical_cols([\"claim_has_patient_preg_ind\"])\n",
    "\n",
    "prof_claims_data = pcp.create_flag_column(prof_claims_data, \"patient_prop_n_casualty_claim\", \"claim_has_patient_prop_n_casulty_qual\")\n",
    "pcp.append_to_categorical_cols([\"claim_has_patient_prop_n_casulty_qual\"])"
   ]
  },
  {
   "cell_type": "code",
   "execution_count": null,
   "metadata": {},
   "outputs": [],
   "source": [
    "prof_claims_data = pcp.compare_columns(prof_claims_data, \"subscriber_state\", \"payer_state\", \"are_subscriber_payer_in_same_state\")\n",
    "prof_claims_data = pcp.compare_columns(prof_claims_data, \"subscriber_city\", \"payer_city\", \"are_subscriber_payer_in_same_city\")\n",
    "\n",
    "prof_claims_data = pcp.compare_columns(prof_claims_data, \"facility_state\", \"payer_state\", \"are_facility_payer_in_same_state\")\n",
    "prof_claims_data = pcp.compare_columns(prof_claims_data, \"facility_city\", \"payer_city\", \"are_facility_payer_in_same_city\")\n",
    "\n",
    "prof_claims_data = pcp.compare_columns(prof_claims_data, \"billing_provider_state\", \"payer_state\", \"are_billing_provider_payer_in_same_state\")\n",
    "prof_claims_data = pcp.compare_columns(prof_claims_data, \"billing_provider_city\", \"payer_city\", \"are_billing_provider_payer_in_same_city\")"
   ]
  },
  {
   "cell_type": "code",
   "execution_count": null,
   "metadata": {},
   "outputs": [],
   "source": [
    "prof_claims_data = pcp.merge_two_cols(prof_claims_data, \"ind_reltn_code\", \"ind_reltn_code2\", \"subscriber_pat_reltn\")\n",
    "prof_claims_data = pcp.merge_two_cols(prof_claims_data, \"subscriber_city\", \"patient_city\", \"subscriber_pat_city\")\n",
    "prof_claims_data = pcp.merge_two_cols(prof_claims_data, \"subscriber_state\", \"patient_state\", \"subscriber_pat_state\")\n",
    "prof_claims_data = pcp.merge_two_cols(prof_claims_data, \"subscriber_gender\", \"patient_gender\", \"subscriber_pat_gender\")\n",
    "prof_claims_data = pcp.merge_two_cols(prof_claims_data, \"subscriber_weight\", \"patient_weight\", \"subscriber_pat_weight\")\n",
    "#prof_claims_data = pcp.merge_two_cols(prof_claims_data, \"subscriber_death_date\", \"patient_death_date\", \"subscriber_pat_death_date\")\n",
    "prof_claims_data = pcp.merge_two_cols(prof_claims_data, \"subscriber_pregnancy_indicator\", \"patient_pregnancy_indicator\", \"subscriber_pat_pregnancy_indicator\")\n",
    "#prof_claims_data = pcp.merge_two_cols(prof_claims_data, \"subscriber_prop_n_casualty_claim\", \"patient_prop_n_casualty_claim\", \"subscriber_pat_prop_n_casualty_claim\")\n",
    "\n",
    "pcp.append_to_categorical_cols([\"subscriber_pat_reltn\", \n",
    "                                \"subscriber_pat_city\", \n",
    "                                \"subscriber_pat_state\", \n",
    "                                \"subscriber_pat_gender\",\n",
    "                                \"subscriber_pat_pregnancy_indicator\"])\n",
    "\n",
    "pcp.append_to_numeric_cols([\"subscriber_pat_weight\"])"
   ]
  },
  {
   "cell_type": "code",
   "execution_count": null,
   "metadata": {},
   "outputs": [],
   "source": [
    "# Computing the age of the patient\n",
    "prof_claims_data = pcp.compute_patient_age(prof_claims_data, \"subscriber_dob\", \"patient_dob\", \"claim_creation_date\")\n",
    "pcp.append_to_numeric_cols([\"patient_age\"])"
   ]
  },
  {
   "cell_type": "code",
   "execution_count": null,
   "metadata": {},
   "outputs": [],
   "source": [
    "# Filling in NaN values in Facility Fields\n",
    "prof_claims_data = pcp.fill_missing_values(prof_claims_data, \"billing_provider_name\", \"facility_name\")\n",
    "prof_claims_data = pcp.fill_missing_values(prof_claims_data, \"billing_provider_city\", \"facility_city\")\n",
    "prof_claims_data = pcp.fill_missing_values(prof_claims_data, \"billing_provider_state\", \"facility_state\")"
   ]
  },
  {
   "cell_type": "code",
   "execution_count": null,
   "metadata": {},
   "outputs": [],
   "source": [
    "# Creating Date Time Features based on Claim Creation Date and Time values.\n",
    "prof_claims_data = pcp.get_date_features(prof_claims_data)"
   ]
  },
  {
   "cell_type": "code",
   "execution_count": null,
   "metadata": {},
   "outputs": [],
   "source": [
    "# Creating count_of_holidays Feature - this is exclusive to Medicare payers.\n",
    "years = pcp.get_min_max_years(prof_claims_data)\n",
    "holidays_list = pcp.get_holidays_list(years)\n",
    "\n",
    "prof_claims_data[\"count_of_holidays\"] = prof_claims_data[\"claim_creation_date\"].apply(lambda x: pcp.create_holiday_count_variable(years, holidays_list, x))\n",
    "pcp.append_to_numeric_cols([\"count_of_holidays\"])"
   ]
  },
  {
   "cell_type": "code",
   "execution_count": null,
   "metadata": {},
   "outputs": [],
   "source": [
    "# Computing the target variable\n",
    "prof_claims_data[\"response_time\"] = (pd.to_datetime(prof_claims_data[\"response_date\"])-pd.to_datetime(prof_claims_data[\"claim_creation_date\"])).dt.days"
   ]
  },
  {
   "cell_type": "code",
   "execution_count": null,
   "metadata": {},
   "outputs": [],
   "source": [
    "reassign_dict = {\"Other Federal Program\": \"Commercial Insurance Co.\", \"Medicare Part A\": \"Medicare Part B\"}\n",
    "\n",
    "prof_claims_data[\"claim_filing_ind_code3\"] = prof_claims_data[\"claim_filing_ind_code2\"].copy()\n",
    "for key, value in reassign_dict.items():\n",
    "    mask = prof_claims_data[\"claim_filing_ind_code2\"]==key\n",
    "    prof_claims_data.loc[mask, \"claim_filing_ind_code3\"] = value"
   ]
  },
  {
   "cell_type": "code",
   "execution_count": null,
   "metadata": {},
   "outputs": [],
   "source": [
    "# Dropping NaN values in medical_record_number\n",
    "mask = ~prof_claims_data[\"medical_record_number\"].isna()\n",
    "prof_claims_data = prof_claims_data[mask].reset_index(drop=True)"
   ]
  },
  {
   "cell_type": "code",
   "execution_count": null,
   "metadata": {},
   "outputs": [],
   "source": [
    "from datetime import date\n",
    "prof_claims_data.to_csv(\"/home/ec2-user/SageMaker/Users/SP056963/work_queue_prioritization_v2/01_data_preprocessing/preprocessed_datasets/pc_preprocessed_dataset_\"+str(date.today())+\".csv\", index=False)"
   ]
  },
  {
   "cell_type": "code",
   "execution_count": null,
   "metadata": {},
   "outputs": [],
   "source": [
    "# Adding any missing categorical and numerical columns to the corresponding lists\n",
    "pcp.append_to_categorical_cols([\"billing_provider_taxonomy_code\", \n",
    "                                \"billing_provider_name\", \n",
    "                                \"payer_name\", \n",
    "                                \"prov_signature_indicator\", \n",
    "                                \"claim_freq_type_code\", \n",
    "                                \"provider_accept_assignment_code\", \n",
    "                                \"yes_no_condition_resp_code\", \n",
    "                                \"release_of_information_code\", \n",
    "                                \"pat_sig_src_code\", \n",
    "                                \"related_causes_code1\", \n",
    "                                \"related_causes_code2\", \n",
    "                                \"special_program_code\"])\n",
    "\n",
    "pcp.append_to_numeric_cols([\"total_claim_charge_amount\", \n",
    "                            \"patient_paid_amount\"])\n",
    "\n",
    "cols_list = list(prof_claims_data.filter(regex=\"count_of\", axis=1).columns)\n",
    "pcp.append_to_numeric_cols(cols_list)"
   ]
  },
  {
   "cell_type": "code",
   "execution_count": null,
   "metadata": {},
   "outputs": [],
   "source": [
    "feat_files_path = \"/home/ec2-user/SageMaker/Users/SP056963/work_queue_prioritization_v2/02_feat_sel_and_imp/professional_claims/json_files/\"\n",
    "pcp.save_cols_list(feat_files_path+\"pc_num_cols.json\", feat_files_path+\"pc_cat_cols.json\")"
   ]
  },
  {
   "cell_type": "code",
   "execution_count": null,
   "metadata": {},
   "outputs": [],
   "source": []
  }
 ],
 "metadata": {
  "kernelspec": {
   "display_name": "wqp_kernel",
   "language": "python",
   "name": "wqp_env"
  },
  "language_info": {
   "codemirror_mode": {
    "name": "ipython",
    "version": 3
   },
   "file_extension": ".py",
   "mimetype": "text/x-python",
   "name": "python",
   "nbconvert_exporter": "python",
   "pygments_lexer": "ipython3",
   "version": "3.6.13"
  }
 },
 "nbformat": 4,
 "nbformat_minor": 4
}
